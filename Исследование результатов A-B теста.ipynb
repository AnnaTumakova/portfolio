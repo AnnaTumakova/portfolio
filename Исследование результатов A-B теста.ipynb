{
 "cells": [
  {
   "cell_type": "markdown",
   "id": "b23a432c",
   "metadata": {},
   "source": [
    "<b><font size=7><center> \n",
    "    Исследование  результатов А/В теста</center></font></b>\n"
   ]
  },
  {
   "cell_type": "markdown",
   "id": "c5f1b117",
   "metadata": {},
   "source": [
    "### Описание проекта\n",
    "\n",
    "Мы сотрудничаем с магазином по продаже вязанных изделий \"Утепляйся\", т.к. скоро зима и клиентский поток увеличится, а наш магазин хочет увеличить объём продаж и сделать процесс покупки для покупателей максимально комфортным маркетологи подготовили совместно с разработчиками несколько изменений для тестирования.\n",
    "\n",
    "Полученные нами данные А/В теста содержат 2 файла:\n",
    "\n",
    "**1 Файл с заказами**\n",
    "- transactionId — номер заказа;\n",
    "- visitorId — пользователь совершивший заказ;\n",
    "- date — дата заказа;\n",
    "- revenue — выручка заказа;\n",
    "- group — группа A/B-теста, в которую попал заказ.\n",
    "\n",
    "**2 Файл с визитами**\n",
    "- date — дата;\n",
    "- group — группа A/B-теста;\n",
    "- visitors — количество пользователей в указанную дату в каждой группе A/B-теста\n",
    "\n",
    "**Необходимо:**\n",
    "\n",
    "Проанализировать результаты А/В-теста, принять решение по его результатам (продолжить тест или остановить - в связи с победой одной из групп или в связи с отсутствием различий в метриках между группами)\n",
    "\n",
    "Для принятия решения:\n",
    "1. построим графики кумулятивной выручки и кумулятивного среднего чека, кумулятивной конверсии по группам\n",
    "2. посчитаем 95-й и 99-й перцентили количества заказов и  стоимости заказов на пользователя\n",
    "3. посчитаем статистическую значимость различий в конверсии и в среднем чеке заказа между группами\n",
    "\n",
    "На основе описанных выше расчётов сделаем выводы и примем решение о дальнейшем продолжении или остановке теста"
   ]
  },
  {
   "cell_type": "markdown",
   "id": "5333b7a4",
   "metadata": {},
   "source": [
    "## Первоначальная обработка полученных данных\n",
    "\n"
   ]
  },
  {
   "cell_type": "markdown",
   "id": "96c2f1fe",
   "metadata": {},
   "source": [
    "### Загрузка данных"
   ]
  },
  {
   "cell_type": "code",
   "execution_count": 1,
   "id": "9b74cece",
   "metadata": {},
   "outputs": [],
   "source": [
    "import pandas as pd\n",
    "import matplotlib.pyplot as plt\n",
    "import seaborn as sns\n",
    "import numpy as np\n",
    "import math as mth\n",
    "import datetime as dt\n",
    "import scipy.stats as stats\n",
    "\n",
    "from scipy import stats as st"
   ]
  },
  {
   "cell_type": "code",
   "execution_count": 2,
   "id": "0fe9d3ec",
   "metadata": {},
   "outputs": [],
   "source": [
    "path ='C:\\\\Users\\\\anech\\\\Desktop\\\\Учёба\\\\Яндекс_практикум\\\\DataSets\\\\'\n",
    "\n",
    "try:        \n",
    "    orders = pd.read_csv('/datasets/orders.csv')\n",
    "    visitors = pd.read_csv('/datasets/visitors.csv')\n",
    "    \n",
    "                        \n",
    "except:    \n",
    "    orders = pd.read_csv(path + 'orders.csv')\n",
    "    visitors = pd.read_csv(path + 'visitors.csv')"
   ]
  },
  {
   "cell_type": "code",
   "execution_count": 3,
   "id": "405341bd",
   "metadata": {},
   "outputs": [],
   "source": [
    "orders.name = 'orders'\n",
    "visitors.name = 'visitors'"
   ]
  },
  {
   "cell_type": "markdown",
   "id": "e93ec8ac",
   "metadata": {},
   "source": [
    "убеждаемся в корректности отражения содержимого"
   ]
  },
  {
   "cell_type": "code",
   "execution_count": 4,
   "id": "b0d97681",
   "metadata": {},
   "outputs": [
    {
     "data": {
      "text/html": [
       "<div>\n",
       "<style scoped>\n",
       "    .dataframe tbody tr th:only-of-type {\n",
       "        vertical-align: middle;\n",
       "    }\n",
       "\n",
       "    .dataframe tbody tr th {\n",
       "        vertical-align: top;\n",
       "    }\n",
       "\n",
       "    .dataframe thead th {\n",
       "        text-align: right;\n",
       "    }\n",
       "</style>\n",
       "<table border=\"1\" class=\"dataframe\">\n",
       "  <thead>\n",
       "    <tr style=\"text-align: right;\">\n",
       "      <th></th>\n",
       "      <th>transactionId</th>\n",
       "      <th>visitorId</th>\n",
       "      <th>date</th>\n",
       "      <th>revenue</th>\n",
       "      <th>group</th>\n",
       "    </tr>\n",
       "  </thead>\n",
       "  <tbody>\n",
       "    <tr>\n",
       "      <th>0</th>\n",
       "      <td>3667963787</td>\n",
       "      <td>3312258926</td>\n",
       "      <td>2019-08-15</td>\n",
       "      <td>1650</td>\n",
       "      <td>B</td>\n",
       "    </tr>\n",
       "    <tr>\n",
       "      <th>1</th>\n",
       "      <td>2804400009</td>\n",
       "      <td>3642806036</td>\n",
       "      <td>2019-08-15</td>\n",
       "      <td>730</td>\n",
       "      <td>B</td>\n",
       "    </tr>\n",
       "    <tr>\n",
       "      <th>2</th>\n",
       "      <td>2961555356</td>\n",
       "      <td>4069496402</td>\n",
       "      <td>2019-08-15</td>\n",
       "      <td>400</td>\n",
       "      <td>A</td>\n",
       "    </tr>\n",
       "  </tbody>\n",
       "</table>\n",
       "</div>"
      ],
      "text/plain": [
       "   transactionId   visitorId        date  revenue group\n",
       "0     3667963787  3312258926  2019-08-15     1650     B\n",
       "1     2804400009  3642806036  2019-08-15      730     B\n",
       "2     2961555356  4069496402  2019-08-15      400     A"
      ]
     },
     "metadata": {},
     "output_type": "display_data"
    },
    {
     "data": {
      "text/html": [
       "<div>\n",
       "<style scoped>\n",
       "    .dataframe tbody tr th:only-of-type {\n",
       "        vertical-align: middle;\n",
       "    }\n",
       "\n",
       "    .dataframe tbody tr th {\n",
       "        vertical-align: top;\n",
       "    }\n",
       "\n",
       "    .dataframe thead th {\n",
       "        text-align: right;\n",
       "    }\n",
       "</style>\n",
       "<table border=\"1\" class=\"dataframe\">\n",
       "  <thead>\n",
       "    <tr style=\"text-align: right;\">\n",
       "      <th></th>\n",
       "      <th>transactionId</th>\n",
       "      <th>visitorId</th>\n",
       "      <th>revenue</th>\n",
       "    </tr>\n",
       "  </thead>\n",
       "  <tbody>\n",
       "    <tr>\n",
       "      <th>count</th>\n",
       "      <td>1.197000e+03</td>\n",
       "      <td>1.197000e+03</td>\n",
       "      <td>1.197000e+03</td>\n",
       "    </tr>\n",
       "    <tr>\n",
       "      <th>mean</th>\n",
       "      <td>2.155621e+09</td>\n",
       "      <td>2.165960e+09</td>\n",
       "      <td>8.348006e+03</td>\n",
       "    </tr>\n",
       "    <tr>\n",
       "      <th>std</th>\n",
       "      <td>1.229085e+09</td>\n",
       "      <td>1.236014e+09</td>\n",
       "      <td>3.919113e+04</td>\n",
       "    </tr>\n",
       "    <tr>\n",
       "      <th>min</th>\n",
       "      <td>1.062393e+06</td>\n",
       "      <td>5.114589e+06</td>\n",
       "      <td>5.000000e+01</td>\n",
       "    </tr>\n",
       "    <tr>\n",
       "      <th>25%</th>\n",
       "      <td>1.166776e+09</td>\n",
       "      <td>1.111826e+09</td>\n",
       "      <td>1.220000e+03</td>\n",
       "    </tr>\n",
       "    <tr>\n",
       "      <th>50%</th>\n",
       "      <td>2.145194e+09</td>\n",
       "      <td>2.217985e+09</td>\n",
       "      <td>2.978000e+03</td>\n",
       "    </tr>\n",
       "    <tr>\n",
       "      <th>75%</th>\n",
       "      <td>3.237740e+09</td>\n",
       "      <td>3.177606e+09</td>\n",
       "      <td>8.290000e+03</td>\n",
       "    </tr>\n",
       "    <tr>\n",
       "      <th>max</th>\n",
       "      <td>4.293856e+09</td>\n",
       "      <td>4.283872e+09</td>\n",
       "      <td>1.294500e+06</td>\n",
       "    </tr>\n",
       "  </tbody>\n",
       "</table>\n",
       "</div>"
      ],
      "text/plain": [
       "       transactionId     visitorId       revenue\n",
       "count   1.197000e+03  1.197000e+03  1.197000e+03\n",
       "mean    2.155621e+09  2.165960e+09  8.348006e+03\n",
       "std     1.229085e+09  1.236014e+09  3.919113e+04\n",
       "min     1.062393e+06  5.114589e+06  5.000000e+01\n",
       "25%     1.166776e+09  1.111826e+09  1.220000e+03\n",
       "50%     2.145194e+09  2.217985e+09  2.978000e+03\n",
       "75%     3.237740e+09  3.177606e+09  8.290000e+03\n",
       "max     4.293856e+09  4.283872e+09  1.294500e+06"
      ]
     },
     "metadata": {},
     "output_type": "display_data"
    },
    {
     "data": {
      "text/html": [
       "<div>\n",
       "<style scoped>\n",
       "    .dataframe tbody tr th:only-of-type {\n",
       "        vertical-align: middle;\n",
       "    }\n",
       "\n",
       "    .dataframe tbody tr th {\n",
       "        vertical-align: top;\n",
       "    }\n",
       "\n",
       "    .dataframe thead th {\n",
       "        text-align: right;\n",
       "    }\n",
       "</style>\n",
       "<table border=\"1\" class=\"dataframe\">\n",
       "  <thead>\n",
       "    <tr style=\"text-align: right;\">\n",
       "      <th></th>\n",
       "      <th>date</th>\n",
       "      <th>group</th>\n",
       "      <th>visitors</th>\n",
       "    </tr>\n",
       "  </thead>\n",
       "  <tbody>\n",
       "    <tr>\n",
       "      <th>0</th>\n",
       "      <td>2019-08-01</td>\n",
       "      <td>A</td>\n",
       "      <td>719</td>\n",
       "    </tr>\n",
       "    <tr>\n",
       "      <th>1</th>\n",
       "      <td>2019-08-02</td>\n",
       "      <td>A</td>\n",
       "      <td>619</td>\n",
       "    </tr>\n",
       "    <tr>\n",
       "      <th>2</th>\n",
       "      <td>2019-08-03</td>\n",
       "      <td>A</td>\n",
       "      <td>507</td>\n",
       "    </tr>\n",
       "  </tbody>\n",
       "</table>\n",
       "</div>"
      ],
      "text/plain": [
       "         date group  visitors\n",
       "0  2019-08-01     A       719\n",
       "1  2019-08-02     A       619\n",
       "2  2019-08-03     A       507"
      ]
     },
     "metadata": {},
     "output_type": "display_data"
    },
    {
     "data": {
      "text/html": [
       "<div>\n",
       "<style scoped>\n",
       "    .dataframe tbody tr th:only-of-type {\n",
       "        vertical-align: middle;\n",
       "    }\n",
       "\n",
       "    .dataframe tbody tr th {\n",
       "        vertical-align: top;\n",
       "    }\n",
       "\n",
       "    .dataframe thead th {\n",
       "        text-align: right;\n",
       "    }\n",
       "</style>\n",
       "<table border=\"1\" class=\"dataframe\">\n",
       "  <thead>\n",
       "    <tr style=\"text-align: right;\">\n",
       "      <th></th>\n",
       "      <th>visitors</th>\n",
       "    </tr>\n",
       "  </thead>\n",
       "  <tbody>\n",
       "    <tr>\n",
       "      <th>count</th>\n",
       "      <td>62.000000</td>\n",
       "    </tr>\n",
       "    <tr>\n",
       "      <th>mean</th>\n",
       "      <td>607.290323</td>\n",
       "    </tr>\n",
       "    <tr>\n",
       "      <th>std</th>\n",
       "      <td>114.400560</td>\n",
       "    </tr>\n",
       "    <tr>\n",
       "      <th>min</th>\n",
       "      <td>361.000000</td>\n",
       "    </tr>\n",
       "    <tr>\n",
       "      <th>25%</th>\n",
       "      <td>534.000000</td>\n",
       "    </tr>\n",
       "    <tr>\n",
       "      <th>50%</th>\n",
       "      <td>624.500000</td>\n",
       "    </tr>\n",
       "    <tr>\n",
       "      <th>75%</th>\n",
       "      <td>710.500000</td>\n",
       "    </tr>\n",
       "    <tr>\n",
       "      <th>max</th>\n",
       "      <td>770.000000</td>\n",
       "    </tr>\n",
       "  </tbody>\n",
       "</table>\n",
       "</div>"
      ],
      "text/plain": [
       "         visitors\n",
       "count   62.000000\n",
       "mean   607.290323\n",
       "std    114.400560\n",
       "min    361.000000\n",
       "25%    534.000000\n",
       "50%    624.500000\n",
       "75%    710.500000\n",
       "max    770.000000"
      ]
     },
     "metadata": {},
     "output_type": "display_data"
    }
   ],
   "source": [
    "files_for_work = [orders, visitors]\n",
    "\n",
    "for i in files_for_work:\n",
    "    display(i.head(3))\n",
    "    display(i.describe())"
   ]
  },
  {
   "cell_type": "code",
   "execution_count": 5,
   "id": "a5f0f261",
   "metadata": {},
   "outputs": [],
   "source": [
    "# приводим заголовки столбцов к нижнему регистру\n",
    "for i in files_for_work:\n",
    "    i.columns = [x.lower() for x in i.columns]"
   ]
  },
  {
   "cell_type": "code",
   "execution_count": 6,
   "id": "6a849227",
   "metadata": {
    "scrolled": false
   },
   "outputs": [
    {
     "name": "stdout",
     "output_type": "stream",
     "text": [
      "<class 'pandas.core.frame.DataFrame'>\n",
      "RangeIndex: 1197 entries, 0 to 1196\n",
      "Data columns (total 5 columns):\n",
      " #   Column         Non-Null Count  Dtype \n",
      "---  ------         --------------  ----- \n",
      " 0   transactionid  1197 non-null   int64 \n",
      " 1   visitorid      1197 non-null   int64 \n",
      " 2   date           1197 non-null   object\n",
      " 3   revenue        1197 non-null   int64 \n",
      " 4   group          1197 non-null   object\n",
      "dtypes: int64(3), object(2)\n",
      "memory usage: 46.9+ KB\n",
      "-------------------\n",
      "\n",
      "<class 'pandas.core.frame.DataFrame'>\n",
      "RangeIndex: 62 entries, 0 to 61\n",
      "Data columns (total 3 columns):\n",
      " #   Column    Non-Null Count  Dtype \n",
      "---  ------    --------------  ----- \n",
      " 0   date      62 non-null     object\n",
      " 1   group     62 non-null     object\n",
      " 2   visitors  62 non-null     int64 \n",
      "dtypes: int64(1), object(2)\n",
      "memory usage: 1.6+ KB\n",
      "-------------------\n",
      "\n"
     ]
    }
   ],
   "source": [
    "# проверяем форматы данных\n",
    "for i in files_for_work:\n",
    "    i.info()\n",
    "    print('-------------------')\n",
    "    print('')"
   ]
  },
  {
   "cell_type": "markdown",
   "id": "50dea7fc",
   "metadata": {},
   "source": [
    "---\n",
    "\n",
    "необходимо привести даты к корректному формату"
   ]
  },
  {
   "cell_type": "code",
   "execution_count": 7,
   "id": "25d4e7c9",
   "metadata": {
    "scrolled": false
   },
   "outputs": [
    {
     "name": "stdout",
     "output_type": "stream",
     "text": [
      "<class 'pandas.core.frame.DataFrame'>\n",
      "RangeIndex: 1197 entries, 0 to 1196\n",
      "Data columns (total 5 columns):\n",
      " #   Column         Non-Null Count  Dtype         \n",
      "---  ------         --------------  -----         \n",
      " 0   transactionid  1197 non-null   int64         \n",
      " 1   visitorid      1197 non-null   int64         \n",
      " 2   date           1197 non-null   datetime64[ns]\n",
      " 3   revenue        1197 non-null   int64         \n",
      " 4   group          1197 non-null   object        \n",
      "dtypes: datetime64[ns](1), int64(3), object(1)\n",
      "memory usage: 46.9+ KB\n"
     ]
    }
   ],
   "source": [
    "# приводим данные к формату datetime\n",
    "orders['date'] = orders['date'].map(\n",
    "    lambda x: dt.datetime.strptime(x, '%Y-%m-%d')\n",
    ")\n",
    "\n",
    "visitors['date'] = visitors['date'].map(\n",
    "    lambda x: dt.datetime.strptime(x, '%Y-%m-%d')\n",
    ")\n",
    "\n",
    "# проверяем\n",
    "orders.info()"
   ]
  },
  {
   "cell_type": "markdown",
   "id": "e294195d",
   "metadata": {},
   "source": [
    "Данные загружены и отражены корректно, проведём EDA"
   ]
  },
  {
   "cell_type": "markdown",
   "id": "fe488f5e",
   "metadata": {},
   "source": [
    "### Исследование данных"
   ]
  },
  {
   "cell_type": "markdown",
   "id": "f0e7a38b",
   "metadata": {},
   "source": [
    "Для того, чтоб результаты исследования были корректными необходимо проверить нет ли пользователей одновременно попавших в обе группы"
   ]
  },
  {
   "cell_type": "code",
   "execution_count": 8,
   "id": "1d0a9b2a",
   "metadata": {},
   "outputs": [
    {
     "name": "stdout",
     "output_type": "stream",
     "text": [
      "в обе группы попали 58 пользователей, что составляет 5.63 % от всей выборки\n"
     ]
    }
   ],
   "source": [
    "#найдём пользователей, попавших в 2 группы\n",
    "duplicated_users = orders.groupby('visitorid').agg({'group': ['nunique', 'unique']})\n",
    "duplicated_users.columns = ['groups', 'group_names']\n",
    "\n",
    "duplicated_users = duplicated_users.query('groups > 1')\n",
    "print('в обе группы попали', len(duplicated_users), \"пользователей, что составляет\",\n",
    "      round(len(duplicated_users)/len(orders['visitorid'].unique()) * 100, 2),'% от всей выборки' )"
   ]
  },
  {
   "cell_type": "markdown",
   "id": "78912643",
   "metadata": {},
   "source": [
    "т.к. 5% - это уже слишком много, выделим отдельный фрейм, с пользователями попавшими только в одну группу, чтоб дополнительно оценить результаты теста, т.к. \"повторные\" пользователи могли оказать существенное влияние на результаты\n",
    "\n",
    "Такое распределение пользователей говорит о некорректности настроек теста, необходимо сообщить инженерам и приложить фрейм с пользователями, попавшими более, чем в одну группу - \"duplicated_users\""
   ]
  },
  {
   "cell_type": "code",
   "execution_count": 9,
   "id": "45a249e7",
   "metadata": {},
   "outputs": [
    {
     "data": {
      "text/html": [
       "<div>\n",
       "<style scoped>\n",
       "    .dataframe tbody tr th:only-of-type {\n",
       "        vertical-align: middle;\n",
       "    }\n",
       "\n",
       "    .dataframe tbody tr th {\n",
       "        vertical-align: top;\n",
       "    }\n",
       "\n",
       "    .dataframe thead th {\n",
       "        text-align: right;\n",
       "    }\n",
       "</style>\n",
       "<table border=\"1\" class=\"dataframe\">\n",
       "  <thead>\n",
       "    <tr style=\"text-align: right;\">\n",
       "      <th></th>\n",
       "      <th>groups</th>\n",
       "      <th>group_names</th>\n",
       "    </tr>\n",
       "    <tr>\n",
       "      <th>visitorid</th>\n",
       "      <th></th>\n",
       "      <th></th>\n",
       "    </tr>\n",
       "  </thead>\n",
       "  <tbody>\n",
       "    <tr>\n",
       "      <th>8300375</th>\n",
       "      <td>2</td>\n",
       "      <td>[B, A]</td>\n",
       "    </tr>\n",
       "    <tr>\n",
       "      <th>199603092</th>\n",
       "      <td>2</td>\n",
       "      <td>[A, B]</td>\n",
       "    </tr>\n",
       "  </tbody>\n",
       "</table>\n",
       "</div>"
      ],
      "text/plain": [
       "           groups group_names\n",
       "visitorid                    \n",
       "8300375         2      [B, A]\n",
       "199603092       2      [A, B]"
      ]
     },
     "execution_count": 9,
     "metadata": {},
     "output_type": "execute_result"
    }
   ],
   "source": [
    "duplicated_users.head(2)"
   ]
  },
  {
   "cell_type": "code",
   "execution_count": 10,
   "id": "66fdf6ea",
   "metadata": {
    "scrolled": false
   },
   "outputs": [
    {
     "data": {
      "text/html": [
       "<div>\n",
       "<style scoped>\n",
       "    .dataframe tbody tr th:only-of-type {\n",
       "        vertical-align: middle;\n",
       "    }\n",
       "\n",
       "    .dataframe tbody tr th {\n",
       "        vertical-align: top;\n",
       "    }\n",
       "\n",
       "    .dataframe thead th {\n",
       "        text-align: right;\n",
       "    }\n",
       "</style>\n",
       "<table border=\"1\" class=\"dataframe\">\n",
       "  <thead>\n",
       "    <tr style=\"text-align: right;\">\n",
       "      <th></th>\n",
       "      <th>transactionid</th>\n",
       "      <th>visitorid</th>\n",
       "      <th>date</th>\n",
       "      <th>revenue</th>\n",
       "      <th>group</th>\n",
       "    </tr>\n",
       "  </thead>\n",
       "  <tbody>\n",
       "    <tr>\n",
       "      <th>0</th>\n",
       "      <td>3667963787</td>\n",
       "      <td>3312258926</td>\n",
       "      <td>2019-08-15</td>\n",
       "      <td>1650</td>\n",
       "      <td>B</td>\n",
       "    </tr>\n",
       "    <tr>\n",
       "      <th>1</th>\n",
       "      <td>2804400009</td>\n",
       "      <td>3642806036</td>\n",
       "      <td>2019-08-15</td>\n",
       "      <td>730</td>\n",
       "      <td>B</td>\n",
       "    </tr>\n",
       "    <tr>\n",
       "      <th>3</th>\n",
       "      <td>3797467345</td>\n",
       "      <td>1196621759</td>\n",
       "      <td>2019-08-15</td>\n",
       "      <td>9759</td>\n",
       "      <td>B</td>\n",
       "    </tr>\n",
       "    <tr>\n",
       "      <th>4</th>\n",
       "      <td>2282983706</td>\n",
       "      <td>2322279887</td>\n",
       "      <td>2019-08-15</td>\n",
       "      <td>2308</td>\n",
       "      <td>B</td>\n",
       "    </tr>\n",
       "    <tr>\n",
       "      <th>5</th>\n",
       "      <td>182168103</td>\n",
       "      <td>935554773</td>\n",
       "      <td>2019-08-15</td>\n",
       "      <td>2210</td>\n",
       "      <td>B</td>\n",
       "    </tr>\n",
       "  </tbody>\n",
       "</table>\n",
       "</div>"
      ],
      "text/plain": [
       "   transactionid   visitorid       date  revenue group\n",
       "0     3667963787  3312258926 2019-08-15     1650     B\n",
       "1     2804400009  3642806036 2019-08-15      730     B\n",
       "3     3797467345  1196621759 2019-08-15     9759     B\n",
       "4     2282983706  2322279887 2019-08-15     2308     B\n",
       "5      182168103   935554773 2019-08-15     2210     B"
      ]
     },
     "execution_count": 10,
     "metadata": {},
     "output_type": "execute_result"
    }
   ],
   "source": [
    "orders_clear = orders.query('visitorid not in @duplicated_users.index')\n",
    "orders_clear.head()"
   ]
  },
  {
   "cell_type": "markdown",
   "id": "ebb0fe46",
   "metadata": {},
   "source": [
    "---\n",
    "проверим, на всякий случай, нет ли задвоений заказов "
   ]
  },
  {
   "cell_type": "code",
   "execution_count": 11,
   "id": "655ab977",
   "metadata": {
    "scrolled": true
   },
   "outputs": [
    {
     "data": {
      "text/html": [
       "<div>\n",
       "<style scoped>\n",
       "    .dataframe tbody tr th:only-of-type {\n",
       "        vertical-align: middle;\n",
       "    }\n",
       "\n",
       "    .dataframe tbody tr th {\n",
       "        vertical-align: top;\n",
       "    }\n",
       "\n",
       "    .dataframe thead th {\n",
       "        text-align: right;\n",
       "    }\n",
       "</style>\n",
       "<table border=\"1\" class=\"dataframe\">\n",
       "  <thead>\n",
       "    <tr style=\"text-align: right;\">\n",
       "      <th></th>\n",
       "      <th>visitorid</th>\n",
       "    </tr>\n",
       "    <tr>\n",
       "      <th>transactionid</th>\n",
       "      <th></th>\n",
       "    </tr>\n",
       "  </thead>\n",
       "  <tbody>\n",
       "    <tr>\n",
       "      <th>1062393</th>\n",
       "      <td>1</td>\n",
       "    </tr>\n",
       "    <tr>\n",
       "      <th>2883105032</th>\n",
       "      <td>1</td>\n",
       "    </tr>\n",
       "    <tr>\n",
       "      <th>2875229767</th>\n",
       "      <td>1</td>\n",
       "    </tr>\n",
       "  </tbody>\n",
       "</table>\n",
       "</div>"
      ],
      "text/plain": [
       "               visitorid\n",
       "transactionid           \n",
       "1062393                1\n",
       "2883105032             1\n",
       "2875229767             1"
      ]
     },
     "execution_count": 11,
     "metadata": {},
     "output_type": "execute_result"
    }
   ],
   "source": [
    "orders.groupby('transactionid').agg({'visitorid':'count'}).sort_values(by=['visitorid'], ascending=False).head(3)"
   ]
  },
  {
   "cell_type": "markdown",
   "id": "e398a302",
   "metadata": {},
   "source": [
    "проверим дубликаты"
   ]
  },
  {
   "cell_type": "code",
   "execution_count": 12,
   "id": "1c187afa",
   "metadata": {
    "scrolled": false
   },
   "outputs": [
    {
     "data": {
      "text/plain": [
       "3"
      ]
     },
     "execution_count": 12,
     "metadata": {},
     "output_type": "execute_result"
    }
   ],
   "source": [
    "orders[['visitorid','date', 'revenue']].duplicated().sum()"
   ]
  },
  {
   "cell_type": "code",
   "execution_count": 13,
   "id": "79375d42",
   "metadata": {
    "scrolled": true
   },
   "outputs": [
    {
     "data": {
      "text/html": [
       "<div>\n",
       "<style scoped>\n",
       "    .dataframe tbody tr th:only-of-type {\n",
       "        vertical-align: middle;\n",
       "    }\n",
       "\n",
       "    .dataframe tbody tr th {\n",
       "        vertical-align: top;\n",
       "    }\n",
       "\n",
       "    .dataframe thead th {\n",
       "        text-align: right;\n",
       "    }\n",
       "</style>\n",
       "<table border=\"1\" class=\"dataframe\">\n",
       "  <thead>\n",
       "    <tr style=\"text-align: right;\">\n",
       "      <th></th>\n",
       "      <th>transactionid</th>\n",
       "      <th>visitorid</th>\n",
       "      <th>date</th>\n",
       "      <th>revenue</th>\n",
       "      <th>group</th>\n",
       "    </tr>\n",
       "  </thead>\n",
       "  <tbody>\n",
       "    <tr>\n",
       "      <th>558</th>\n",
       "      <td>3621273697</td>\n",
       "      <td>3941503500</td>\n",
       "      <td>2019-08-06</td>\n",
       "      <td>4990</td>\n",
       "      <td>B</td>\n",
       "    </tr>\n",
       "    <tr>\n",
       "      <th>682</th>\n",
       "      <td>1216533772</td>\n",
       "      <td>4266935830</td>\n",
       "      <td>2019-08-29</td>\n",
       "      <td>78990</td>\n",
       "      <td>B</td>\n",
       "    </tr>\n",
       "    <tr>\n",
       "      <th>972</th>\n",
       "      <td>2419539947</td>\n",
       "      <td>2587333274</td>\n",
       "      <td>2019-08-08</td>\n",
       "      <td>3600</td>\n",
       "      <td>B</td>\n",
       "    </tr>\n",
       "  </tbody>\n",
       "</table>\n",
       "</div>"
      ],
      "text/plain": [
       "     transactionid   visitorid       date  revenue group\n",
       "558     3621273697  3941503500 2019-08-06     4990     B\n",
       "682     1216533772  4266935830 2019-08-29    78990     B\n",
       "972     2419539947  2587333274 2019-08-08     3600     B"
      ]
     },
     "execution_count": 13,
     "metadata": {},
     "output_type": "execute_result"
    }
   ],
   "source": [
    "orders[orders[['visitorid','date', 'revenue']].duplicated() == True]"
   ]
  },
  {
   "cell_type": "code",
   "execution_count": 14,
   "id": "082db065",
   "metadata": {},
   "outputs": [
    {
     "data": {
      "text/html": [
       "<div>\n",
       "<style scoped>\n",
       "    .dataframe tbody tr th:only-of-type {\n",
       "        vertical-align: middle;\n",
       "    }\n",
       "\n",
       "    .dataframe tbody tr th {\n",
       "        vertical-align: top;\n",
       "    }\n",
       "\n",
       "    .dataframe thead th {\n",
       "        text-align: right;\n",
       "    }\n",
       "</style>\n",
       "<table border=\"1\" class=\"dataframe\">\n",
       "  <thead>\n",
       "    <tr style=\"text-align: right;\">\n",
       "      <th></th>\n",
       "      <th>transactionid</th>\n",
       "      <th>visitorid</th>\n",
       "      <th>date</th>\n",
       "      <th>revenue</th>\n",
       "      <th>group</th>\n",
       "    </tr>\n",
       "  </thead>\n",
       "  <tbody>\n",
       "    <tr>\n",
       "      <th>556</th>\n",
       "      <td>571224785</td>\n",
       "      <td>3941503500</td>\n",
       "      <td>2019-08-06</td>\n",
       "      <td>4990</td>\n",
       "      <td>B</td>\n",
       "    </tr>\n",
       "    <tr>\n",
       "      <th>558</th>\n",
       "      <td>3621273697</td>\n",
       "      <td>3941503500</td>\n",
       "      <td>2019-08-06</td>\n",
       "      <td>4990</td>\n",
       "      <td>B</td>\n",
       "    </tr>\n",
       "  </tbody>\n",
       "</table>\n",
       "</div>"
      ],
      "text/plain": [
       "     transactionid   visitorid       date  revenue group\n",
       "556      571224785  3941503500 2019-08-06     4990     B\n",
       "558     3621273697  3941503500 2019-08-06     4990     B"
      ]
     },
     "execution_count": 14,
     "metadata": {},
     "output_type": "execute_result"
    }
   ],
   "source": [
    "orders[orders.visitorid == 3941503500]"
   ]
  },
  {
   "cell_type": "markdown",
   "id": "af8e3c21",
   "metadata": {},
   "source": [
    "выявлено 3 строки-дубликата, совпадающих по столбцам 'visitorid','date', 'revenue', впринципе вполне возможно, что какой-то клиент сделал заказ дважды в день на одну и ту же сумму, это не притично для нашего объёма данных"
   ]
  },
  {
   "cell_type": "code",
   "execution_count": 15,
   "id": "8682877c",
   "metadata": {
    "scrolled": true
   },
   "outputs": [
    {
     "data": {
      "text/plain": [
       "0"
      ]
     },
     "execution_count": 15,
     "metadata": {},
     "output_type": "execute_result"
    }
   ],
   "source": [
    "visitors.duplicated().sum()"
   ]
  },
  {
   "cell_type": "markdown",
   "id": "24317a2e",
   "metadata": {},
   "source": [
    "прверим кол-во групп, участвующих в тесте"
   ]
  },
  {
   "cell_type": "code",
   "execution_count": 16,
   "id": "e383e6e7",
   "metadata": {},
   "outputs": [
    {
     "data": {
      "text/plain": [
       "array(['B', 'A'], dtype=object)"
      ]
     },
     "execution_count": 16,
     "metadata": {},
     "output_type": "execute_result"
    }
   ],
   "source": [
    "orders['group'].unique()"
   ]
  },
  {
   "cell_type": "code",
   "execution_count": 17,
   "id": "9df1d827",
   "metadata": {},
   "outputs": [
    {
     "data": {
      "text/plain": [
       "array(['A', 'B'], dtype=object)"
      ]
     },
     "execution_count": 17,
     "metadata": {},
     "output_type": "execute_result"
    }
   ],
   "source": [
    "visitors['group'].unique()"
   ]
  },
  {
   "cell_type": "markdown",
   "id": "ee8793ab",
   "metadata": {},
   "source": [
    "---\n",
    "посмотрим за какой период отражены данные в датасетах orders и visitors"
   ]
  },
  {
   "cell_type": "code",
   "execution_count": 18,
   "id": "c0a4c002",
   "metadata": {},
   "outputs": [
    {
     "name": "stdout",
     "output_type": "stream",
     "text": [
      "Временной интервал данных таблицы orders: 2019-08-01 - 2019-08-31\n",
      "Временной интервал данных таблицы visitors: 2019-08-01 - 2019-08-31\n"
     ]
    }
   ],
   "source": [
    "# функция для просмотра временного периода данных\n",
    "def time_period(df, columns):\n",
    "    print(f'Временной интервал данных таблицы {df.name}: ' +\n",
    "          f'{df[columns].dt.date.min()} - {df[columns].dt.date.max()}')\n",
    "\n",
    "time_period(orders, 'date')\n",
    "time_period(visitors, 'date')"
   ]
  },
  {
   "cell_type": "markdown",
   "id": "e16f11cd",
   "metadata": {},
   "source": [
    "---\n",
    "посмотрим количественное распределение выручки по группам теста"
   ]
  },
  {
   "cell_type": "code",
   "execution_count": 86,
   "id": "37e492b0",
   "metadata": {
    "scrolled": true
   },
   "outputs": [
    {
     "data": {
      "image/png": "[encoded data removed]",
      "text/plain": [
       "<Figure size 1296x360 with 2 Axes>"
      ]
     },
     "metadata": {
      "needs_background": "light"
     },
     "output_type": "display_data"
    }
   ],
   "source": [
    "plt.figure(figsize=(18, 5)) # задаём размер сетки для графиков\n",
    "for i, unit in enumerate(orders.sort_values('group', ascending=True)['group'].unique()):  # выбираем уникальные значения каналов и сохраняем их кол-во в i\n",
    "    data_var = orders.query('group == @unit').sort_values('revenue', ascending=True)  # на каждом шаге берем данные по 1 каналу\n",
    "    \n",
    "    # для наглядности выводим гистограммы в subplot. Параметр позиции вывода берем +1, т.к. индексы в i идут с 0\n",
    "    data_var['revenue'].hist(bins=18, alpha=0.5, label=unit,  ax=plt.subplot(1, 2, i + 1))\n",
    "    \n",
    "    # рисуем отметку среднего + выводим его количественное значение\n",
    "    plt.axvline(data_var['revenue']. \\\n",
    "                describe()['mean'], color='red', linestyle='dashed', linewidth=3, label='среднее значение: {:.2f}'. \\\n",
    "                format(data_var['revenue'].describe()['mean']))\n",
    "    \n",
    "    # рисуем отметку медианы + выводим ее количественное значение\n",
    "    plt.axvline(data_var['revenue']. \\\n",
    "                describe()['50%'], color='b', linestyle='dotted', linewidth=3, label='медианное значение: {:.2f}'. \\\n",
    "                format(data_var['revenue'].describe()['50%']))\n",
    "    \n",
    "    plt.legend(fontsize=14)\n",
    "    plt.title(f'Количественное распределение выручки по группe теста {unit}', fontsize = 14)\n",
    "    plt.xlabel('выручка', fontsize = 12)\n",
    "    plt.ylabel('количество результатов', fontsize = 12)\n",
    "plt.legend()\n",
    "plt.tight_layout()\n",
    "plt.show()"
   ]
  },
  {
   "cell_type": "markdown",
   "id": "263e6837",
   "metadata": {},
   "source": [
    "- и в одном и во втором распределениях присутствуют значительные выбросы, которые смещают среднее.\n",
    "- в группе B хвост гораздо \"жирнее\", влияние выбросов на данные будет значительнее.\n",
    "- этот момент необходимо обязательно учесть в ходе исследования."
   ]
  },
  {
   "cell_type": "markdown",
   "id": "5dab9854",
   "metadata": {},
   "source": [
    "### Вывод\n",
    "\n",
    "1. Данные загружены и отражены корректно\n",
    "2. Временной интервал данных в таблицах отражён за период с 2019-08-01 по 2019-08-31\n",
    "3. в результатах теста обнаружены пользовтели, попавшие в обе группы, они составляю 5,63% от общего числа пользователей - это слишком много, необходимо обсудить с разработчиками настройки теста\n",
    "4. дубликатов в данных не обнаружено\n",
    "5. пользователи поделены на 2 группы в соответствии с условиями теста\n",
    "6. в данных о выручке присутсвуют значительные вбросы, а следовательно распределение смещённое"
   ]
  },
  {
   "cell_type": "markdown",
   "id": "8ebf59e5",
   "metadata": {},
   "source": [
    "## Анализ данных A/B-теста\n",
    "\n"
   ]
  },
  {
   "cell_type": "markdown",
   "id": "81ffa8ca",
   "metadata": {},
   "source": [
    "###  Проанализируем A/B-тест"
   ]
  },
  {
   "cell_type": "code",
   "execution_count": 20,
   "id": "23f81bd2",
   "metadata": {},
   "outputs": [
    {
     "data": {
      "text/html": [
       "<div>\n",
       "<style scoped>\n",
       "    .dataframe tbody tr th:only-of-type {\n",
       "        vertical-align: middle;\n",
       "    }\n",
       "\n",
       "    .dataframe tbody tr th {\n",
       "        vertical-align: top;\n",
       "    }\n",
       "\n",
       "    .dataframe thead th {\n",
       "        text-align: right;\n",
       "    }\n",
       "</style>\n",
       "<table border=\"1\" class=\"dataframe\">\n",
       "  <thead>\n",
       "    <tr style=\"text-align: right;\">\n",
       "      <th></th>\n",
       "      <th>group</th>\n",
       "      <th>amount_orders</th>\n",
       "      <th>revenue</th>\n",
       "      <th>amount_visitors</th>\n",
       "      <th>ordersToVisitorsRatio</th>\n",
       "    </tr>\n",
       "  </thead>\n",
       "  <tbody>\n",
       "    <tr>\n",
       "      <th>0</th>\n",
       "      <td>A</td>\n",
       "      <td>557</td>\n",
       "      <td>4084803</td>\n",
       "      <td>18736</td>\n",
       "      <td>0.0297</td>\n",
       "    </tr>\n",
       "    <tr>\n",
       "      <th>1</th>\n",
       "      <td>B</td>\n",
       "      <td>640</td>\n",
       "      <td>5907760</td>\n",
       "      <td>18916</td>\n",
       "      <td>0.0338</td>\n",
       "    </tr>\n",
       "  </tbody>\n",
       "</table>\n",
       "</div>"
      ],
      "text/plain": [
       "  group  amount_orders  revenue  amount_visitors ordersToVisitorsRatio\n",
       "0     A            557  4084803            18736                0.0297\n",
       "1     B            640  5907760            18916                0.0338"
      ]
     },
     "execution_count": 20,
     "metadata": {},
     "output_type": "execute_result"
    }
   ],
   "source": [
    "# сгруппируем данные по группам, посмотрим долю клиентов, совершивших заказ в каждой группе\n",
    "data_orders = (\n",
    "    orders.groupby('group', as_index=False)\n",
    "    .agg({'visitorid': 'count', 'revenue': 'sum'})\n",
    "    ).rename(columns = {'visitorid':'amount_orders'}) \n",
    "\n",
    "data_orders = (\n",
    "    data_orders.join(visitors.groupby('group')\n",
    "                                .agg({'visitors': 'sum'}), on = 'group')\n",
    "                                .rename(columns = {'visitors':'amount_visitors'}) \n",
    ")\n",
    "\n",
    "data_orders['ordersToVisitorsRatio'] = (\n",
    "    data_orders['amount_orders'] / data_orders['amount_visitors']\n",
    "    ).map(lambda x: \"{0:.4f}\".format(x))\n",
    "\n",
    "data_orders"
   ]
  },
  {
   "cell_type": "markdown",
   "id": "8e05bb79",
   "metadata": {},
   "source": [
    "___\n",
    "Проверим гипотезу о равенстве долей заказов в группах А и В"
   ]
  },
  {
   "cell_type": "markdown",
   "id": "0911dc41",
   "metadata": {},
   "source": [
    "\n",
    "**Нулевая гипотеза** в группах А и В равные доли заказов, **альтернативная гипотеза** - в группах A и B  доли заказов различны"
   ]
  },
  {
   "cell_type": "markdown",
   "id": "197fb0cf",
   "metadata": {},
   "source": [
    "Если пропорции равны, разница между ними будет равна нулю. Посчитаем, как далеко статистика \"уехала\" от нуля. Какова вероятность получить такое отличие или больше? Так как распределение статистики нормальное, вызовем метод cdf(). Саму статистику возьмём по модулю методом abs() — чтобы получить правильный результат независимо от её знака, это возможно, потому что тест двусторонний, по этой же причине удваиваем результат"
   ]
  },
  {
   "cell_type": "code",
   "execution_count": 21,
   "id": "758a07ac",
   "metadata": {
    "scrolled": true
   },
   "outputs": [
    {
     "name": "stdout",
     "output_type": "stream",
     "text": [
      "p-значение:  0.02320723394441848\n",
      "Отвергаем нулевую гипотезу: между долями есть значимая разница\n"
     ]
    }
   ],
   "source": [
    "alpha = 0.05  # критический уровень статистической значимости\n",
    "\n",
    "#пропорция успехов в группе A:\n",
    "group_a = data_orders.loc[0, 'amount_orders'] / data_orders.loc[0, 'amount_visitors']\n",
    "#пропорция успехов в группе B:\n",
    "group_b = data_orders.loc[1, 'amount_orders'] / data_orders.loc[1, 'amount_visitors']\n",
    "#пропорция успехов в комбинированном датасете:\n",
    "groups_combined = ((data_orders.loc[0, 'amount_orders'] + data_orders.loc[1, 'amount_orders']) /\n",
    "    (data_orders.loc[0, 'amount_visitors'] + data_orders.loc[1, 'amount_visitors']))\n",
    "#разница пропорций в датасетах\n",
    "difference = group_a - group_b \n",
    "\n",
    "#считаем статистику в ст.отклонениях стандартного нормального распределения\n",
    "z_value = difference / mth.sqrt(groups_combined * (1 - groups_combined) * \n",
    "                                (1 / data_orders.loc[0, 'amount_visitors'] + 1 / data_orders.loc[1, 'amount_visitors']))\n",
    "\n",
    "# задаем стандартное нормальное распределение (среднее 0, ст.отклонение 1)\n",
    "distr = st.norm(0, 1)  \n",
    "\n",
    "\n",
    "p_value = (1 - distr.cdf(abs(z_value))) * 2\n",
    "print('p-значение: ', p_value)\n",
    "\n",
    "if p_value < alpha:# ваш код\n",
    "    print('Отвергаем нулевую гипотезу: между долями есть значимая разница')\n",
    "else:\n",
    "    print(\n",
    "        'Не получилось отвергнуть нулевую гипотезу, нет оснований считать доли разными'\n",
    "    )"
   ]
  },
  {
   "cell_type": "markdown",
   "id": "caff5ee6",
   "metadata": {},
   "source": [
    "# Вывод\n",
    "\n",
    "Доля заказов в группе B выше, чем в группе А на 0.4%, эту разницу можно признать статистически значимой"
   ]
  },
  {
   "cell_type": "markdown",
   "id": "f916cc2d",
   "metadata": {},
   "source": [
    "### Построим график кумулятивной выручки по группам"
   ]
  },
  {
   "cell_type": "code",
   "execution_count": 22,
   "id": "02de0078",
   "metadata": {
    "scrolled": false
   },
   "outputs": [
    {
     "data": {
      "image/png": "[encoded data removed]",
      "text/plain": [
       "<Figure size 1080x360 with 1 Axes>"
      ]
     },
     "metadata": {
      "needs_background": "light"
     },
     "output_type": "display_data"
    }
   ],
   "source": [
    "#создаем массив уникальных пар значений дат и групп теста\n",
    "datesGroups = orders[['date','group']].drop_duplicates()\n",
    "\n",
    "#получаем агрегированные кумулятивные по дням данные о заказах \n",
    "ordersAggregated = datesGroups.apply(\n",
    "    lambda x: orders[np.logical_and(orders['date'] <= x['date'], orders['group'] == x['group'])].agg(\n",
    "        {'date' : 'max', 'group' : 'max', 'transactionid' : 'nunique', 'visitorid' : 'nunique', 'revenue' : 'sum'}\n",
    "            ), axis=1).sort_values(by=['date','group'])\n",
    "\n",
    "#получаем агрегированные кумулятивные по дням данные о посетителях интернет-магазина \n",
    "visitorsAggregated = datesGroups.apply(\n",
    "    lambda x: visitors[np.logical_and(visitors['date'] <= x['date'], visitors['group'] == x['group'])]\n",
    "    .agg({'date' : 'max', 'group' : 'max', 'visitors' : 'sum'}), axis=1\n",
    "    ).sort_values(by=['date','group'])\n",
    "\n",
    "#объединяем кумулятивные данные в одной таблице и присваиваем ее столбцам понятные названия\n",
    "cumulativeData = ordersAggregated.merge(visitorsAggregated, left_on=['date', 'group'], right_on=['date', 'group'])\n",
    "cumulativeData.columns = ['date', 'group', 'orders', 'buyers', 'revenue', 'visitors']\n",
    "cumulativeData\n",
    "# Построим графики кумулятивной выручки по дням и группам A/B-тестирования:\n",
    "\n",
    "#датафрейм с кумулятивным количеством заказов и кумулятивной выручкой по дням в группе А\n",
    "cumulativeRevenueA = cumulativeData[cumulativeData['group']=='A'][['date','revenue', 'orders']]\n",
    "#датафрейм с кумулятивным количеством заказов и кумулятивной выручкой по дням в группе B\n",
    "cumulativeRevenueB = cumulativeData[cumulativeData['group']=='B'][['date','revenue', 'orders']]\n",
    "\n",
    "#Строим график выручки группы А\n",
    "fig, ax = plt.subplots(figsize = (15,5))\n",
    "ax = plt.plot(cumulativeRevenueA['date'], cumulativeRevenueA['revenue'], label='A')\n",
    "\n",
    "#Строим график выручки группы B\n",
    "plt.plot(cumulativeRevenueB['date'], cumulativeRevenueB['revenue'], label='B')\n",
    "plt.legend()\n",
    "plt.grid()\n",
    "plt.title('Кумулятивная выручка по группам')\n",
    "plt.ylabel('выручка')\n",
    "plt.xlabel('дата');"
   ]
  },
  {
   "cell_type": "markdown",
   "id": "10094875",
   "metadata": {},
   "source": [
    "Выручка увеличивается равномерно почти в течение всего теста, это хороший знак\n",
    "\n",
    "Резкие колебания на графике могут быть связаны с аномальными покупками - либо одна большая, либо чек, приближенный к среднему,  но при этом увеличилось кол-во чеков\n",
    "\n",
    "Проверми предположение"
   ]
  },
  {
   "cell_type": "code",
   "execution_count": 23,
   "id": "d73c0dbe",
   "metadata": {
    "scrolled": false
   },
   "outputs": [
    {
     "data": {
      "text/html": [
       "<div>\n",
       "<style scoped>\n",
       "    .dataframe tbody tr th:only-of-type {\n",
       "        vertical-align: middle;\n",
       "    }\n",
       "\n",
       "    .dataframe tbody tr th {\n",
       "        vertical-align: top;\n",
       "    }\n",
       "\n",
       "    .dataframe thead th {\n",
       "        text-align: right;\n",
       "    }\n",
       "</style>\n",
       "<table border=\"1\" class=\"dataframe\">\n",
       "  <thead>\n",
       "    <tr style=\"text-align: right;\">\n",
       "      <th></th>\n",
       "      <th>date</th>\n",
       "      <th>group</th>\n",
       "      <th>orders</th>\n",
       "      <th>buyers</th>\n",
       "      <th>revenue</th>\n",
       "      <th>visitors</th>\n",
       "    </tr>\n",
       "  </thead>\n",
       "  <tbody>\n",
       "    <tr>\n",
       "      <th>30</th>\n",
       "      <td>2019-08-16</td>\n",
       "      <td>A</td>\n",
       "      <td>301</td>\n",
       "      <td>277</td>\n",
       "      <td>2078908</td>\n",
       "      <td>10047</td>\n",
       "    </tr>\n",
       "    <tr>\n",
       "      <th>31</th>\n",
       "      <td>2019-08-16</td>\n",
       "      <td>B</td>\n",
       "      <td>359</td>\n",
       "      <td>336</td>\n",
       "      <td>2539635</td>\n",
       "      <td>10013</td>\n",
       "    </tr>\n",
       "    <tr>\n",
       "      <th>32</th>\n",
       "      <td>2019-08-17</td>\n",
       "      <td>A</td>\n",
       "      <td>311</td>\n",
       "      <td>283</td>\n",
       "      <td>2129769</td>\n",
       "      <td>10459</td>\n",
       "    </tr>\n",
       "    <tr>\n",
       "      <th>33</th>\n",
       "      <td>2019-08-17</td>\n",
       "      <td>B</td>\n",
       "      <td>373</td>\n",
       "      <td>349</td>\n",
       "      <td>2620790</td>\n",
       "      <td>10434</td>\n",
       "    </tr>\n",
       "    <tr>\n",
       "      <th>34</th>\n",
       "      <td>2019-08-18</td>\n",
       "      <td>A</td>\n",
       "      <td>328</td>\n",
       "      <td>300</td>\n",
       "      <td>2202167</td>\n",
       "      <td>11127</td>\n",
       "    </tr>\n",
       "    <tr>\n",
       "      <th>35</th>\n",
       "      <td>2019-08-18</td>\n",
       "      <td>B</td>\n",
       "      <td>382</td>\n",
       "      <td>357</td>\n",
       "      <td>2686621</td>\n",
       "      <td>11171</td>\n",
       "    </tr>\n",
       "    <tr>\n",
       "      <th>36</th>\n",
       "      <td>2019-08-19</td>\n",
       "      <td>A</td>\n",
       "      <td>350</td>\n",
       "      <td>320</td>\n",
       "      <td>2391910</td>\n",
       "      <td>11629</td>\n",
       "    </tr>\n",
       "    <tr>\n",
       "      <th>37</th>\n",
       "      <td>2019-08-19</td>\n",
       "      <td>B</td>\n",
       "      <td>403</td>\n",
       "      <td>377</td>\n",
       "      <td>4116541</td>\n",
       "      <td>11658</td>\n",
       "    </tr>\n",
       "    <tr>\n",
       "      <th>38</th>\n",
       "      <td>2019-08-20</td>\n",
       "      <td>A</td>\n",
       "      <td>362</td>\n",
       "      <td>330</td>\n",
       "      <td>2469529</td>\n",
       "      <td>12204</td>\n",
       "    </tr>\n",
       "    <tr>\n",
       "      <th>39</th>\n",
       "      <td>2019-08-20</td>\n",
       "      <td>B</td>\n",
       "      <td>423</td>\n",
       "      <td>396</td>\n",
       "      <td>4263815</td>\n",
       "      <td>12218</td>\n",
       "    </tr>\n",
       "    <tr>\n",
       "      <th>40</th>\n",
       "      <td>2019-08-21</td>\n",
       "      <td>A</td>\n",
       "      <td>385</td>\n",
       "      <td>350</td>\n",
       "      <td>2643838</td>\n",
       "      <td>12850</td>\n",
       "    </tr>\n",
       "    <tr>\n",
       "      <th>41</th>\n",
       "      <td>2019-08-21</td>\n",
       "      <td>B</td>\n",
       "      <td>437</td>\n",
       "      <td>407</td>\n",
       "      <td>4426892</td>\n",
       "      <td>12874</td>\n",
       "    </tr>\n",
       "  </tbody>\n",
       "</table>\n",
       "</div>"
      ],
      "text/plain": [
       "         date group  orders  buyers  revenue  visitors\n",
       "30 2019-08-16     A     301     277  2078908     10047\n",
       "31 2019-08-16     B     359     336  2539635     10013\n",
       "32 2019-08-17     A     311     283  2129769     10459\n",
       "33 2019-08-17     B     373     349  2620790     10434\n",
       "34 2019-08-18     A     328     300  2202167     11127\n",
       "35 2019-08-18     B     382     357  2686621     11171\n",
       "36 2019-08-19     A     350     320  2391910     11629\n",
       "37 2019-08-19     B     403     377  4116541     11658\n",
       "38 2019-08-20     A     362     330  2469529     12204\n",
       "39 2019-08-20     B     423     396  4263815     12218\n",
       "40 2019-08-21     A     385     350  2643838     12850\n",
       "41 2019-08-21     B     437     407  4426892     12874"
      ]
     },
     "execution_count": 23,
     "metadata": {},
     "output_type": "execute_result"
    }
   ],
   "source": [
    "# посмотрим агрегированные данные по продажам по группам\n",
    "cumulativeData.query('date >= \"2019-08-16\"').head(12)"
   ]
  },
  {
   "cell_type": "markdown",
   "id": "fa72af3b",
   "metadata": {},
   "source": [
    "18.08 сумма продаж по группе B сильно возрасла, не пропорционально увеличению кол-ва чеков, посмотрим детализированные данные по продажам"
   ]
  },
  {
   "cell_type": "code",
   "execution_count": 24,
   "id": "4bad9f1c",
   "metadata": {
    "scrolled": true
   },
   "outputs": [
    {
     "data": {
      "image/png": "[encoded data removed]",
      "text/plain": [
       "<Figure size 1080x360 with 1 Axes>"
      ]
     },
     "metadata": {
      "needs_background": "light"
     },
     "output_type": "display_data"
    }
   ],
   "source": [
    "# посмотрим покупки по дням\n",
    "fig, ax = plt.subplots(figsize = (15,5))\n",
    "ax = sns.scatterplot(x='date', y='revenue', data=orders, hue='group')\n",
    "plt.grid()\n",
    "plt.title('Разброс кол-ва заказов за период теста')\n",
    "plt.ylabel('сумма заказа')\n",
    "plt.xlabel('дата заказа');\n",
    "plt.show()\n"
   ]
  },
  {
   "cell_type": "code",
   "execution_count": 25,
   "id": "33ba8f50",
   "metadata": {},
   "outputs": [
    {
     "data": {
      "image/png": "[encoded data removed]",
      "text/plain": [
       "<Figure size 1080x360 with 1 Axes>"
      ]
     },
     "metadata": {
      "needs_background": "light"
     },
     "output_type": "display_data"
    }
   ],
   "source": [
    "# изменим масштаб, для более детального анализа\n",
    "fig, ax = plt.subplots(figsize = (15,5))\n",
    "ax = sns.scatterplot(x='date', y='revenue', data=orders, hue='group')\n",
    "plt.grid()\n",
    "plt.ylim(0, 210000);\n",
    "plt.title('Разброс кол-ва заказов до 200 000 за период теста')\n",
    "plt.ylabel('сумма заказа')\n",
    "plt.xlabel('дата заказа')\n",
    "plt.show();"
   ]
  },
  {
   "cell_type": "markdown",
   "id": "d8e008c1",
   "metadata": {},
   "source": [
    "# Вывод\n",
    "\n",
    "С начала теста до 5.08 кумулятивная выручка по дням по двум группам была почти равной, с 5.08 группа В нарастила выручку и начала лидировать до 13.08, когда по причине больших покупок две группы сравнялись в выручке (предположительно большие чеки 12 и 13.08 по группе А попадут в группу аномальных, проверим это предположение далее), после этого дня группа В ежедневно укрепляла своё лидерство перед группой А\n",
    "\n",
    "19.08 пик отражает аномально крупную покупку  по группе B, что это лидерство стабильно"
   ]
  },
  {
   "cell_type": "markdown",
   "id": "e6fb441c",
   "metadata": {},
   "source": [
    "### Построим график кумулятивного среднего чека по группам"
   ]
  },
  {
   "cell_type": "code",
   "execution_count": 26,
   "id": "d8d6147d",
   "metadata": {
    "scrolled": true
   },
   "outputs": [
    {
     "data": {
      "text/html": [
       "<div>\n",
       "<style scoped>\n",
       "    .dataframe tbody tr th:only-of-type {\n",
       "        vertical-align: middle;\n",
       "    }\n",
       "\n",
       "    .dataframe tbody tr th {\n",
       "        vertical-align: top;\n",
       "    }\n",
       "\n",
       "    .dataframe thead th {\n",
       "        text-align: right;\n",
       "    }\n",
       "</style>\n",
       "<table border=\"1\" class=\"dataframe\">\n",
       "  <thead>\n",
       "    <tr style=\"text-align: right;\">\n",
       "      <th></th>\n",
       "      <th>date</th>\n",
       "      <th>revenue</th>\n",
       "      <th>orders</th>\n",
       "    </tr>\n",
       "  </thead>\n",
       "  <tbody>\n",
       "    <tr>\n",
       "      <th>0</th>\n",
       "      <td>2019-08-01</td>\n",
       "      <td>148579</td>\n",
       "      <td>24</td>\n",
       "    </tr>\n",
       "    <tr>\n",
       "      <th>2</th>\n",
       "      <td>2019-08-02</td>\n",
       "      <td>242401</td>\n",
       "      <td>44</td>\n",
       "    </tr>\n",
       "    <tr>\n",
       "      <th>4</th>\n",
       "      <td>2019-08-03</td>\n",
       "      <td>354874</td>\n",
       "      <td>68</td>\n",
       "    </tr>\n",
       "    <tr>\n",
       "      <th>6</th>\n",
       "      <td>2019-08-04</td>\n",
       "      <td>425699</td>\n",
       "      <td>84</td>\n",
       "    </tr>\n",
       "    <tr>\n",
       "      <th>8</th>\n",
       "      <td>2019-08-05</td>\n",
       "      <td>549917</td>\n",
       "      <td>109</td>\n",
       "    </tr>\n",
       "  </tbody>\n",
       "</table>\n",
       "</div>"
      ],
      "text/plain": [
       "        date  revenue  orders\n",
       "0 2019-08-01   148579      24\n",
       "2 2019-08-02   242401      44\n",
       "4 2019-08-03   354874      68\n",
       "6 2019-08-04   425699      84\n",
       "8 2019-08-05   549917     109"
      ]
     },
     "execution_count": 26,
     "metadata": {},
     "output_type": "execute_result"
    }
   ],
   "source": [
    "cumulativeRevenueA.head()"
   ]
  },
  {
   "cell_type": "markdown",
   "id": "8a006e17",
   "metadata": {},
   "source": [
    "<a id=\"кумулятивныйсрчек\"></a>"
   ]
  },
  {
   "cell_type": "code",
   "execution_count": 27,
   "id": "cb09b649",
   "metadata": {
    "scrolled": true
   },
   "outputs": [
    {
     "data": {
      "image/png": "[encoded data removed]",
      "text/plain": [
       "<Figure size 1080x360 with 1 Axes>"
      ]
     },
     "metadata": {
      "needs_background": "light"
     },
     "output_type": "display_data"
    }
   ],
   "source": [
    "# для построения графика по группам считаем динамику отношения кумулятивной выручки к кумулятивному количеству заказов по дням\n",
    "fig, ax = plt.subplots(figsize = (15,5))\n",
    "ax = plt.plot(cumulativeRevenueA['date'], cumulativeRevenueA['revenue']/cumulativeRevenueA['orders'], label='A')\n",
    "plt.plot(cumulativeRevenueB['date'], cumulativeRevenueB['revenue']/cumulativeRevenueB['orders'], label='B')\n",
    "\n",
    "plt.axhline(y=9200, color='gray', linestyle='--')\n",
    "plt.axhline(y=7350, color='gray', linestyle='--')\n",
    "plt.title('Динамика кумулятивного среднего чека по группам за период проведения теста')\n",
    "plt.ylabel('сумма')\n",
    "plt.xlabel('дата')\n",
    "plt.legend()\n",
    "plt.grid();"
   ]
  },
  {
   "cell_type": "markdown",
   "id": "a8b08acb",
   "metadata": {},
   "source": [
    "# Вывод\n",
    "Кумулятивный средний чек по группам более волотилен, нежели кумулятивная выручка, ожидаемо по мере увеличения объёма данных динамика колебаний снижается\n",
    "\n",
    "Пик 19.08 связан с аномально большим заказом, который мы заметили выше\n",
    "\n",
    "13 и 14 кумулятивный средний чек по группе А увеличился, что мы и отразилось выше на графике кумулятивной выручки, причина, как мы заметили в предыдущем пункте в нескольких заказах со стоимостью гораздо выше средней\n",
    "\n",
    "В конце графики среднего чека имеют тенденцию к сближению и по одной и по второй группам"
   ]
  },
  {
   "cell_type": "markdown",
   "id": "8aaefd59",
   "metadata": {},
   "source": [
    "### Построим график относительного изменения кумулятивного среднего чека группы B к группе A"
   ]
  },
  {
   "cell_type": "code",
   "execution_count": 28,
   "id": "616ce25f",
   "metadata": {
    "scrolled": true
   },
   "outputs": [
    {
     "data": {
      "text/html": [
       "<div>\n",
       "<style scoped>\n",
       "    .dataframe tbody tr th:only-of-type {\n",
       "        vertical-align: middle;\n",
       "    }\n",
       "\n",
       "    .dataframe tbody tr th {\n",
       "        vertical-align: top;\n",
       "    }\n",
       "\n",
       "    .dataframe thead th {\n",
       "        text-align: right;\n",
       "    }\n",
       "</style>\n",
       "<table border=\"1\" class=\"dataframe\">\n",
       "  <thead>\n",
       "    <tr style=\"text-align: right;\">\n",
       "      <th></th>\n",
       "      <th>date</th>\n",
       "      <th>revenue</th>\n",
       "      <th>orders</th>\n",
       "    </tr>\n",
       "  </thead>\n",
       "  <tbody>\n",
       "    <tr>\n",
       "      <th>0</th>\n",
       "      <td>2019-08-01</td>\n",
       "      <td>148579</td>\n",
       "      <td>24</td>\n",
       "    </tr>\n",
       "    <tr>\n",
       "      <th>2</th>\n",
       "      <td>2019-08-02</td>\n",
       "      <td>242401</td>\n",
       "      <td>44</td>\n",
       "    </tr>\n",
       "  </tbody>\n",
       "</table>\n",
       "</div>"
      ],
      "text/plain": [
       "        date  revenue  orders\n",
       "0 2019-08-01   148579      24\n",
       "2 2019-08-02   242401      44"
      ]
     },
     "execution_count": 28,
     "metadata": {},
     "output_type": "execute_result"
    }
   ],
   "source": [
    "cumulativeRevenueA.head(2)"
   ]
  },
  {
   "cell_type": "code",
   "execution_count": 29,
   "id": "1bc6285d",
   "metadata": {
    "scrolled": true
   },
   "outputs": [
    {
     "data": {
      "text/html": [
       "<div>\n",
       "<style scoped>\n",
       "    .dataframe tbody tr th:only-of-type {\n",
       "        vertical-align: middle;\n",
       "    }\n",
       "\n",
       "    .dataframe tbody tr th {\n",
       "        vertical-align: top;\n",
       "    }\n",
       "\n",
       "    .dataframe thead th {\n",
       "        text-align: right;\n",
       "    }\n",
       "</style>\n",
       "<table border=\"1\" class=\"dataframe\">\n",
       "  <thead>\n",
       "    <tr style=\"text-align: right;\">\n",
       "      <th></th>\n",
       "      <th>date</th>\n",
       "      <th>revenue</th>\n",
       "      <th>orders</th>\n",
       "    </tr>\n",
       "  </thead>\n",
       "  <tbody>\n",
       "    <tr>\n",
       "      <th>1</th>\n",
       "      <td>2019-08-01</td>\n",
       "      <td>101217</td>\n",
       "      <td>21</td>\n",
       "    </tr>\n",
       "    <tr>\n",
       "      <th>3</th>\n",
       "      <td>2019-08-02</td>\n",
       "      <td>266748</td>\n",
       "      <td>45</td>\n",
       "    </tr>\n",
       "  </tbody>\n",
       "</table>\n",
       "</div>"
      ],
      "text/plain": [
       "        date  revenue  orders\n",
       "1 2019-08-01   101217      21\n",
       "3 2019-08-02   266748      45"
      ]
     },
     "execution_count": 29,
     "metadata": {},
     "output_type": "execute_result"
    }
   ],
   "source": [
    "cumulativeRevenueB.head(2)"
   ]
  },
  {
   "cell_type": "code",
   "execution_count": 85,
   "id": "3efe14c5",
   "metadata": {
    "scrolled": true
   },
   "outputs": [
    {
     "data": {
      "image/png": "[encoded data removed]",
      "text/plain": [
       "<Figure size 1080x360 with 1 Axes>"
      ]
     },
     "metadata": {
      "needs_background": "light"
     },
     "output_type": "display_data"
    }
   ],
   "source": [
    "#собираем данные в одном датафрейме\n",
    "mergedCumulativeRevenue = cumulativeRevenueA.merge(cumulativeRevenueB, on='date', how='left', suffixes=['A', 'B'])\n",
    "#cтроим отношение средних чеков\n",
    "fig, ax = plt.subplots(figsize = (15,5))\n",
    "ax = plt.plot(mergedCumulativeRevenue['date'], \n",
    "              (mergedCumulativeRevenue['revenueB']/mergedCumulativeRevenue['ordersB']) /\n",
    "              (mergedCumulativeRevenue['revenueA']/mergedCumulativeRevenue['ordersA'])-1)\n",
    "#добавляем ось X\n",
    "plt.axhline(y=0, color='black', linestyle='--')\n",
    "plt.title('График относительного изменения кумулятивного среднего чека группы B к группе A за период проведения теста')\n",
    "plt.axhline(y=0.26, color='gray', linestyle='--')\n",
    "plt.ylabel('разница кумулятивного ср.чека группы В к А')\n",
    "plt.xlabel('дата');"
   ]
  },
  {
   "cell_type": "markdown",
   "id": "cd45a108",
   "metadata": {},
   "source": [
    "# Вывод\n",
    "В нескольких точках график различия между сегментами резко «скачет», необходимо проверить крупные заказы и выбросы"
   ]
  },
  {
   "cell_type": "markdown",
   "id": "f4646911",
   "metadata": {},
   "source": [
    "\n",
    "### Построим график кумулятивной конверсии по группам"
   ]
  },
  {
   "cell_type": "code",
   "execution_count": 84,
   "id": "e04312b7",
   "metadata": {},
   "outputs": [
    {
     "data": {
      "image/png": "[encoded data removed]",
      "text/plain": [
       "<Figure size 1080x360 with 1 Axes>"
      ]
     },
     "metadata": {
      "needs_background": "light"
     },
     "output_type": "display_data"
    }
   ],
   "source": [
    "#считаем кумулятивную конверсию\n",
    "cumulativeData['conversion'] = cumulativeData['orders']/cumulativeData['visitors']\n",
    "\n",
    "#отделяем данные по группе A\n",
    "cumulativeDataA = cumulativeData[cumulativeData['group']=='A']\n",
    "\n",
    "#отделяем данные по группе B\n",
    "cumulativeDataB = cumulativeData[cumulativeData['group']=='B']\n",
    "\n",
    "#строим графики\n",
    "fig, ax = plt.subplots(figsize = (15,5))\n",
    "ax = plt.plot(cumulativeDataA['date'], cumulativeDataA['conversion'], label='A')\n",
    "plt.plot(cumulativeDataB['date'], cumulativeDataB['conversion'], label='B')\n",
    "\n",
    "plt.axhline(y=0.0336, color='gray', linestyle='--')\n",
    "plt.axhline(y=0.03, color='gray', linestyle='--')\n",
    "\n",
    "\n",
    "plt.legend()\n",
    "plt.title('Динамика кумулятивной конверсии по группам за период проведения теста')\n",
    "plt.ylabel('конверсия');"
   ]
  },
  {
   "cell_type": "markdown",
   "id": "bdc719dc",
   "metadata": {},
   "source": [
    "# Вывод\n",
    "Кумулятивная конверсия после 6.08 по группе B вырвалась вперёд и колеблется около одного значения, а конверсия группы B просела и также колеблется вокруг одного значения "
   ]
  },
  {
   "cell_type": "markdown",
   "id": "e2c13502",
   "metadata": {},
   "source": [
    "### Построим график относительного изменения кумулятивной конверсии группы B к группе A"
   ]
  },
  {
   "cell_type": "code",
   "execution_count": 82,
   "id": "b09352f2",
   "metadata": {},
   "outputs": [
    {
     "data": {
      "image/png": "[encoded data removed]",
      "text/plain": [
       "<Figure size 1080x360 with 1 Axes>"
      ]
     },
     "metadata": {
      "needs_background": "light"
     },
     "output_type": "display_data"
    }
   ],
   "source": [
    "#собираем данные в одном датафрейме\n",
    "mergedCumulativeConversions = cumulativeDataA[['date','conversion']].merge(\n",
    "    cumulativeDataB[['date','conversion']], left_on='date', right_on='date', how='left', suffixes=['A', 'B'])\n",
    "fig, ax = plt.subplots(figsize = (15,5))\n",
    "\n",
    "#cтроим отношение кумулятивной конверсии \n",
    "ax = plt.plot(mergedCumulativeConversions['date'], mergedCumulativeConversions['conversionB']/\n",
    "              mergedCumulativeConversions['conversionA']-1, \n",
    "              label=\"Относительный прирост конверсии группы B относительно группы A\")\n",
    "\n",
    "plt.legend()\n",
    "plt.axhline(y=0, color='black', linestyle='--')\n",
    "plt.grid()\n",
    "plt.title('Относительное различие кумулятивной конверсии группы B к группе A за период проведения теста');"
   ]
  },
  {
   "cell_type": "markdown",
   "id": "0b683f96",
   "metadata": {},
   "source": [
    "# Вывод\n",
    "В начале теста группа B значительно проигрывала группе A, затем вырвалась вперёд. Потом её конверсия снова падала и снова нарастала по сравнению с группой А\n",
    "\n",
    "В целом отношение конверсии ещё не установилось, но динамика вокруг одного значения, и сейчас делать какие-либо выводы по тесту сложно, впрочем, стоит проанализировать аномалии, возможно, они изменят картину."
   ]
  },
  {
   "cell_type": "code",
   "execution_count": 33,
   "id": "8a1d1ec7",
   "metadata": {},
   "outputs": [
    {
     "data": {
      "text/html": [
       "<div>\n",
       "<style scoped>\n",
       "    .dataframe tbody tr th:only-of-type {\n",
       "        vertical-align: middle;\n",
       "    }\n",
       "\n",
       "    .dataframe tbody tr th {\n",
       "        vertical-align: top;\n",
       "    }\n",
       "\n",
       "    .dataframe thead th {\n",
       "        text-align: right;\n",
       "    }\n",
       "</style>\n",
       "<table border=\"1\" class=\"dataframe\">\n",
       "  <thead>\n",
       "    <tr style=\"text-align: right;\">\n",
       "      <th></th>\n",
       "      <th>visitorid</th>\n",
       "      <th>orders</th>\n",
       "    </tr>\n",
       "  </thead>\n",
       "  <tbody>\n",
       "    <tr>\n",
       "      <th>1023</th>\n",
       "      <td>4256040402</td>\n",
       "      <td>11</td>\n",
       "    </tr>\n",
       "    <tr>\n",
       "      <th>591</th>\n",
       "      <td>2458001652</td>\n",
       "      <td>11</td>\n",
       "    </tr>\n",
       "    <tr>\n",
       "      <th>569</th>\n",
       "      <td>2378935119</td>\n",
       "      <td>9</td>\n",
       "    </tr>\n",
       "    <tr>\n",
       "      <th>487</th>\n",
       "      <td>2038680547</td>\n",
       "      <td>8</td>\n",
       "    </tr>\n",
       "    <tr>\n",
       "      <th>44</th>\n",
       "      <td>199603092</td>\n",
       "      <td>5</td>\n",
       "    </tr>\n",
       "  </tbody>\n",
       "</table>\n",
       "</div>"
      ],
      "text/plain": [
       "       visitorid  orders\n",
       "1023  4256040402      11\n",
       "591   2458001652      11\n",
       "569   2378935119       9\n",
       "487   2038680547       8\n",
       "44     199603092       5"
      ]
     },
     "execution_count": 33,
     "metadata": {},
     "output_type": "execute_result"
    }
   ],
   "source": [
    "# считаем кол-во заказов по клиентам\n",
    "ordersByUsers = (\n",
    "    orders.groupby('visitorid', as_index=False)\n",
    "    .agg({'transactionid': 'nunique'})\n",
    ")\n",
    "\n",
    "ordersByUsers.columns = ['visitorid', 'orders']\n",
    "ordersByUsers.sort_values(by='orders', ascending=False).head(5)"
   ]
  },
  {
   "cell_type": "markdown",
   "id": "fcc7217f",
   "metadata": {},
   "source": [
    "Посмотрим для начала на распределение кол-ва заказов"
   ]
  },
  {
   "cell_type": "code",
   "execution_count": 34,
   "id": "d0ed822a",
   "metadata": {},
   "outputs": [
    {
     "data": {
      "text/html": [
       "<div>\n",
       "<style scoped>\n",
       "    .dataframe tbody tr th:only-of-type {\n",
       "        vertical-align: middle;\n",
       "    }\n",
       "\n",
       "    .dataframe tbody tr th {\n",
       "        vertical-align: top;\n",
       "    }\n",
       "\n",
       "    .dataframe thead th {\n",
       "        text-align: right;\n",
       "    }\n",
       "</style>\n",
       "<table border=\"1\" class=\"dataframe\">\n",
       "  <thead>\n",
       "    <tr style=\"text-align: right;\">\n",
       "      <th></th>\n",
       "      <th>visitorid</th>\n",
       "      <th>orders</th>\n",
       "    </tr>\n",
       "  </thead>\n",
       "  <tbody>\n",
       "    <tr>\n",
       "      <th>0</th>\n",
       "      <td>5114589</td>\n",
       "      <td>1</td>\n",
       "    </tr>\n",
       "    <tr>\n",
       "      <th>1</th>\n",
       "      <td>6958315</td>\n",
       "      <td>1</td>\n",
       "    </tr>\n",
       "    <tr>\n",
       "      <th>2</th>\n",
       "      <td>8300375</td>\n",
       "      <td>2</td>\n",
       "    </tr>\n",
       "    <tr>\n",
       "      <th>3</th>\n",
       "      <td>11685486</td>\n",
       "      <td>1</td>\n",
       "    </tr>\n",
       "    <tr>\n",
       "      <th>4</th>\n",
       "      <td>39475350</td>\n",
       "      <td>1</td>\n",
       "    </tr>\n",
       "  </tbody>\n",
       "</table>\n",
       "</div>"
      ],
      "text/plain": [
       "   visitorid  orders\n",
       "0    5114589       1\n",
       "1    6958315       1\n",
       "2    8300375       2\n",
       "3   11685486       1\n",
       "4   39475350       1"
      ]
     },
     "execution_count": 34,
     "metadata": {},
     "output_type": "execute_result"
    }
   ],
   "source": [
    "ordersByUsers.head()"
   ]
  },
  {
   "cell_type": "code",
   "execution_count": 74,
   "id": "39339f91",
   "metadata": {
    "scrolled": false
   },
   "outputs": [
    {
     "data": {
      "image/png": "[encoded data removed]",
      "text/plain": [
       "<Figure size 432x288 with 1 Axes>"
      ]
     },
     "metadata": {
      "needs_background": "light"
     },
     "output_type": "display_data"
    }
   ],
   "source": [
    "plt.hist(ordersByUsers['orders'], bins=11, ec='black')\n",
    "plt.title('Распределение кол-ва чеков на 1 клиента')\n",
    "plt.ylabel('кол-во клиентов')\n",
    "plt.xlabel('кол-во чеков на 1 клиента');"
   ]
  },
  {
   "cell_type": "markdown",
   "id": "54168069",
   "metadata": {},
   "source": [
    "Посмотрим распределение заказов по пользователям, попавшим только в 1 группу"
   ]
  },
  {
   "cell_type": "code",
   "execution_count": 75,
   "id": "6aba46ae",
   "metadata": {},
   "outputs": [
    {
     "data": {
      "image/png": "[encoded data removed]",
      "text/plain": [
       "<Figure size 432x288 with 1 Axes>"
      ]
     },
     "metadata": {
      "needs_background": "light"
     },
     "output_type": "display_data"
    }
   ],
   "source": [
    "# считаем кол-во заказов по клиентам, которые попали только в 1 группу\n",
    "ordersByUsers_clear = (\n",
    "    orders_clear.groupby('visitorid', as_index=False)\n",
    "    .agg({'transactionid': 'nunique'})\n",
    ")\n",
    "\n",
    "ordersByUsers_clear.columns = ['visitorid', 'orders']\n",
    "ordersByUsers_clear.sort_values(by='orders', ascending=False).head(5)\n",
    "\n",
    "plt.hist(ordersByUsers_clear['orders'], bins=3, ec='black')\n",
    "plt.title('Распределение кол-ва чеков на 1 клиента (по клиентам, попавшим только в 1 группу)')\n",
    "plt.ylabel('кол-во клиентов')\n",
    "plt.xlabel('кол-во чеков на 1 клиента');"
   ]
  },
  {
   "cell_type": "markdown",
   "id": "a7681e1d",
   "metadata": {},
   "source": [
    "Львиная доля пользователей совершает от одного до 3ёх заказов, пользователей, совершивших более 3 заказов, скорее всего можно отнести к аномальным, необходимо проверить 95 и 99й перцентили, для того, чтоб сделать более точный вывод\n",
    "\n",
    "В пользу нашего предположения говорит и то, что в очищенных от задвоенных пользователей данных максимальное кол-во заказов - 3"
   ]
  },
  {
   "cell_type": "code",
   "execution_count": 37,
   "id": "bfc03989",
   "metadata": {},
   "outputs": [
    {
     "data": {
      "image/png": "[encoded data removed]",
      "text/plain": [
       "<Figure size 432x288 with 1 Axes>"
      ]
     },
     "metadata": {
      "needs_background": "light"
     },
     "output_type": "display_data"
    }
   ],
   "source": [
    "x_values = pd.Series(range(0,len(ordersByUsers)))\n",
    "plt.scatter(x_values, ordersByUsers['orders'])\n",
    "plt.axhline(y=3.5, color='gray', linestyle='--')\n",
    "plt.title('Количество чеков на 1 клиента')\n",
    "plt.xlabel('кол-во клиентов')\n",
    "plt.ylabel('кол-во чеков ');"
   ]
  },
  {
   "cell_type": "markdown",
   "id": "7a0a1973",
   "metadata": {},
   "source": [
    "# Вывод\n",
    "\n",
    "Много пользователей с 1-3 заказами, их точная доля не ясна, но скорее всего пользователей с кол-вом заказов более 3х можно отнести к аномальным. Необходимо посчитать выборочные перцентили количества заказов на одного пользователя"
   ]
  },
  {
   "cell_type": "markdown",
   "id": "686add12",
   "metadata": {},
   "source": [
    "### Посчитаем 95-й и 99-й перцентили количества заказов на пользователя"
   ]
  },
  {
   "cell_type": "code",
   "execution_count": 38,
   "id": "aaf9b9a3",
   "metadata": {},
   "outputs": [
    {
     "name": "stdout",
     "output_type": "stream",
     "text": [
      "[1. 2. 4.]\n"
     ]
    },
    {
     "data": {
      "text/plain": [
       "3"
      ]
     },
     "execution_count": 38,
     "metadata": {},
     "output_type": "execute_result"
    }
   ],
   "source": [
    "print(np.percentile(ordersByUsers['orders'], [90, 95, 99]))\n",
    "\n",
    "# вынесем 98 перцентиль в отдельную переменную\n",
    "orders_98perc = round(np.percentile(ordersByUsers['orders'], [98])[0])\n",
    "orders_98perc"
   ]
  },
  {
   "cell_type": "markdown",
   "id": "9a8c6df7",
   "metadata": {},
   "source": [
    "Не более 5% пользователей оформляли больше чем 2 заказa. И 10% пользователей делали заказ более одного раза.\n",
    "Разумно выбрать 2 или 3 заказа на одного пользователя за нижнюю границу числа заказов, и отсеять аномальных пользователей по ней."
   ]
  },
  {
   "cell_type": "markdown",
   "id": "e2e573fe",
   "metadata": {},
   "source": [
    "### Построим точечный график стоимостей заказов"
   ]
  },
  {
   "cell_type": "markdown",
   "id": "0de434ba",
   "metadata": {},
   "source": [
    "Изучим гистограмму распределения стоимостей заказов:"
   ]
  },
  {
   "cell_type": "code",
   "execution_count": 77,
   "id": "78d06685",
   "metadata": {},
   "outputs": [
    {
     "data": {
      "image/png": "[encoded data removed]",
      "text/plain": [
       "<Figure size 432x288 with 1 Axes>"
      ]
     },
     "metadata": {
      "needs_background": "light"
     },
     "output_type": "display_data"
    }
   ],
   "source": [
    "plt.hist(orders['revenue'], bins=100)\n",
    "plt.ylim(0, 20);\n",
    "plt.title('Распределение стоимостей заказов')\n",
    "plt.xlabel('сумма заказа')\n",
    "plt.ylabel('кол-во заказов');"
   ]
  },
  {
   "cell_type": "markdown",
   "id": "94eb6550",
   "metadata": {},
   "source": [
    "судя по гистограмме более 99% заказов не превышают 70 000, всё, что выше, скорее всего аномалия"
   ]
  },
  {
   "cell_type": "code",
   "execution_count": 40,
   "id": "ccffa05c",
   "metadata": {
    "scrolled": true
   },
   "outputs": [
    {
     "data": {
      "image/png": "[encoded data removed]",
      "text/plain": [
       "<Figure size 432x288 with 1 Axes>"
      ]
     },
     "metadata": {
      "needs_background": "light"
     },
     "output_type": "display_data"
    }
   ],
   "source": [
    "# строим точечный график\n",
    "x_values = pd.Series(range(0,len(orders)))\n",
    "plt.scatter(x_values, orders['revenue']);\n",
    "plt.title('Распределение стоимостей заказов')\n",
    "plt.ylabel('сумма заказа')\n",
    "plt.xlabel('кол-во заказов');"
   ]
  },
  {
   "cell_type": "code",
   "execution_count": 41,
   "id": "4bc3fd27",
   "metadata": {
    "scrolled": true
   },
   "outputs": [
    {
     "data": {
      "image/png": "[encoded data removed]",
      "text/plain": [
       "<Figure size 432x288 with 1 Axes>"
      ]
     },
     "metadata": {
      "needs_background": "light"
     },
     "output_type": "display_data"
    }
   ],
   "source": [
    "# изменим масштаб графика\n",
    "x_values = pd.Series(range(0,len(orders)))\n",
    "plt.scatter(x_values, orders['revenue'])\n",
    "plt.ylim(0, 80000)\n",
    "plt.axhline(y=30000, color='gray', linestyle='--')\n",
    "plt.title('Распределение  заказов стоимостью до 80 000')\n",
    "plt.ylabel('сумма заказа')\n",
    "plt.xlabel('кол-во заказов')\n",
    "\n",
    "plt.text(1290, 27000, '30 000 предполагаемая \\nнижняя граница \\nаномальных заказов', fontsize=12);"
   ]
  },
  {
   "cell_type": "markdown",
   "id": "1e5d8771",
   "metadata": {},
   "source": [
    "Всё, как предполагали: есть немного дорогих заказов. По графику можно выбрать границу аномальных заказов примерно от 30 000 рублей, однако посмотрим на расчёт перцентилей"
   ]
  },
  {
   "cell_type": "markdown",
   "id": "d264f717",
   "metadata": {},
   "source": [
    "### Посчитаем 95-й и 99-й перцентили стоимости заказов, выберем границу для определения аномальных заказов."
   ]
  },
  {
   "cell_type": "code",
   "execution_count": 42,
   "id": "b074b0f0",
   "metadata": {
    "scrolled": true
   },
   "outputs": [
    {
     "name": "stdout",
     "output_type": "stream",
     "text": [
      "[18168.  28000.  58233.2]\n"
     ]
    },
    {
     "data": {
      "text/plain": [
       "44133"
      ]
     },
     "execution_count": 42,
     "metadata": {},
     "output_type": "execute_result"
    }
   ],
   "source": [
    "print(np.percentile(orders['revenue'], [90, 95, 99]))\n",
    "\n",
    "# вынесем 98 перцентиль в отдельную переменную\n",
    "revenue_98perc = round(np.percentile(orders['revenue'], [98])[0])\n",
    "revenue_98perc"
   ]
  },
  {
   "cell_type": "markdown",
   "id": "08bbe121",
   "metadata": {},
   "source": [
    "Не более 5% заказов дороже 28 000 рублей и не более 1% дороже 58 234 рублей. \n",
    "\n"
   ]
  },
  {
   "cell_type": "markdown",
   "id": "08ae337b",
   "metadata": {},
   "source": [
    "Граница аномалий - 98ой перцентиль, на наших данных это 44 133 руб, переменная revenue_98perc:\n",
    "1. 1% это слишком мало, тем более по кол-ву чеков 1% это больше 4ёх, по кол-ву ставить нужно явно от 3ёх\n",
    "2. если ставить разные перцентили как аномалию по кол-ву чеков и среднему чеку не очень понятно как обуславливать такой выбор\n",
    "3. если ставить 5%, как говорилось в курсе - отбросим слишком много данных как аномальные\n",
    "\n",
    "Учитывая вышесказанное, оптимальное решение - брать 98ой перцентиль за границу нормы, остальное считать аномалией\n",
    "\n"
   ]
  },
  {
   "cell_type": "markdown",
   "id": "01e92402",
   "metadata": {},
   "source": [
    "### Посчитаем статистическую значимость различий в конверсии между группами по «сырым» данным"
   ]
  },
  {
   "cell_type": "markdown",
   "id": "45afed17",
   "metadata": {},
   "source": [
    "Сформулируем гипотезы. \n",
    "\n",
    "**Нулевая**: различий в конверсии между группами нет. **Альтернативная**: различия в конверсии между группами есть."
   ]
  },
  {
   "cell_type": "markdown",
   "id": "a4fd7b92",
   "metadata": {},
   "source": [
    "Выше мы уже убедились о том, что в данных есть аномалии, которые могут существенным образом влиять на поведение метрик, поэтому для проверки гипотез нам необходим непараметрический тест. Проверять гипотезу будем с помощью теста Уилкоксона-Мана-Уитни, он устойчив к выбивающимся значениям и поможет вычислить вероятность получения указанного результата\n"
   ]
  },
  {
   "cell_type": "code",
   "execution_count": 43,
   "id": "24cc0b82",
   "metadata": {
    "scrolled": true
   },
   "outputs": [
    {
     "data": {
      "text/html": [
       "<div>\n",
       "<style scoped>\n",
       "    .dataframe tbody tr th:only-of-type {\n",
       "        vertical-align: middle;\n",
       "    }\n",
       "\n",
       "    .dataframe tbody tr th {\n",
       "        vertical-align: top;\n",
       "    }\n",
       "\n",
       "    .dataframe thead th {\n",
       "        text-align: right;\n",
       "    }\n",
       "</style>\n",
       "<table border=\"1\" class=\"dataframe\">\n",
       "  <thead>\n",
       "    <tr style=\"text-align: right;\">\n",
       "      <th></th>\n",
       "      <th>date</th>\n",
       "      <th>group</th>\n",
       "      <th>visitors</th>\n",
       "    </tr>\n",
       "  </thead>\n",
       "  <tbody>\n",
       "    <tr>\n",
       "      <th>0</th>\n",
       "      <td>2019-08-01</td>\n",
       "      <td>A</td>\n",
       "      <td>719</td>\n",
       "    </tr>\n",
       "    <tr>\n",
       "      <th>1</th>\n",
       "      <td>2019-08-02</td>\n",
       "      <td>A</td>\n",
       "      <td>619</td>\n",
       "    </tr>\n",
       "  </tbody>\n",
       "</table>\n",
       "</div>"
      ],
      "text/plain": [
       "        date group  visitors\n",
       "0 2019-08-01     A       719\n",
       "1 2019-08-02     A       619"
      ]
     },
     "execution_count": 43,
     "metadata": {},
     "output_type": "execute_result"
    }
   ],
   "source": [
    "visitors.head(2)"
   ]
  },
  {
   "cell_type": "code",
   "execution_count": 44,
   "id": "079528ee",
   "metadata": {
    "scrolled": true
   },
   "outputs": [
    {
     "data": {
      "text/html": [
       "<div>\n",
       "<style scoped>\n",
       "    .dataframe tbody tr th:only-of-type {\n",
       "        vertical-align: middle;\n",
       "    }\n",
       "\n",
       "    .dataframe tbody tr th {\n",
       "        vertical-align: top;\n",
       "    }\n",
       "\n",
       "    .dataframe thead th {\n",
       "        text-align: right;\n",
       "    }\n",
       "</style>\n",
       "<table border=\"1\" class=\"dataframe\">\n",
       "  <thead>\n",
       "    <tr style=\"text-align: right;\">\n",
       "      <th></th>\n",
       "      <th>transactionid</th>\n",
       "      <th>visitorid</th>\n",
       "      <th>date</th>\n",
       "      <th>revenue</th>\n",
       "      <th>group</th>\n",
       "    </tr>\n",
       "  </thead>\n",
       "  <tbody>\n",
       "    <tr>\n",
       "      <th>0</th>\n",
       "      <td>3667963787</td>\n",
       "      <td>3312258926</td>\n",
       "      <td>2019-08-15</td>\n",
       "      <td>1650</td>\n",
       "      <td>B</td>\n",
       "    </tr>\n",
       "    <tr>\n",
       "      <th>1</th>\n",
       "      <td>2804400009</td>\n",
       "      <td>3642806036</td>\n",
       "      <td>2019-08-15</td>\n",
       "      <td>730</td>\n",
       "      <td>B</td>\n",
       "    </tr>\n",
       "  </tbody>\n",
       "</table>\n",
       "</div>"
      ],
      "text/plain": [
       "   transactionid   visitorid       date  revenue group\n",
       "0     3667963787  3312258926 2019-08-15     1650     B\n",
       "1     2804400009  3642806036 2019-08-15      730     B"
      ]
     },
     "execution_count": 44,
     "metadata": {},
     "output_type": "execute_result"
    }
   ],
   "source": [
    "orders.head(2)"
   ]
  },
  {
   "cell_type": "code",
   "execution_count": 45,
   "id": "27e2e5ee",
   "metadata": {},
   "outputs": [
    {
     "name": "stdout",
     "output_type": "stream",
     "text": [
      "        date  ordersPerDateA  revenuePerDateA  ordersPerDateB  \\\n",
      "0 2019-08-01              24           148579              21   \n",
      "1 2019-08-02              20            93822              24   \n",
      "2 2019-08-03              24           112473              16   \n",
      "3 2019-08-04              16            70825              17   \n",
      "4 2019-08-05              25           124218              23   \n",
      "\n",
      "   revenuePerDateB  ordersCummulativeA  revenueCummulativeA  \\\n",
      "0           101217                  24               148579   \n",
      "1           165531                  44               242401   \n",
      "2           114248                  68               354874   \n",
      "3           108571                  84               425699   \n",
      "4            92428                 109               549917   \n",
      "\n",
      "   ordersCummulativeB  revenueCummulativeB  visitorsPerDateA  \\\n",
      "0                  21               101217               719   \n",
      "1                  45               266748               619   \n",
      "2                  61               380996               507   \n",
      "3                  78               489567               717   \n",
      "4                 101               581995               756   \n",
      "\n",
      "   visitorsPerDateB  visitorsCummulativeA  visitorsCummulativeB  \n",
      "0               713                   719                   713  \n",
      "1               581                  1338                  1294  \n",
      "2               509                  1845                  1803  \n",
      "3               770                  2562                  2573  \n",
      "4               707                  3318                  3280  \n"
     ]
    }
   ],
   "source": [
    "# выделяем пользователй группы А в отдельный датафрейм \n",
    "visitorsADaily = visitors[visitors['group'] == 'A'][['date', 'visitors']]\n",
    "visitorsADaily.columns = ['date', 'visitorsPerDateA']\n",
    "\n",
    "# считаем накопительное кол-во клиентов на каждую дату\n",
    "visitorsACummulative = visitorsADaily.apply(\n",
    "    lambda x: visitorsADaily[visitorsADaily['date'] <= x['date']].agg(\n",
    "        {'date': 'max', 'visitorsPerDateA': 'sum'}\n",
    "    ),\n",
    "    axis=1,\n",
    ")\n",
    "\n",
    "visitorsACummulative.columns = ['date', 'visitorsCummulativeA']\n",
    "\n",
    "# производим аналогичные расчёты по группе В\n",
    "visitorsBDaily = visitors[visitors['group'] == 'B'][['date', 'visitors']]\n",
    "visitorsBDaily.columns = ['date', 'visitorsPerDateB']\n",
    "visitorsBCummulative = visitorsBDaily.apply(\n",
    "    lambda x: visitorsBDaily[visitorsBDaily['date'] <= x['date']].agg(\n",
    "        {'date': 'max', 'visitorsPerDateB': 'sum'}\n",
    "    ),\n",
    "    axis=1,\n",
    ")\n",
    "\n",
    "visitorsBCummulative.columns = ['date', 'visitorsCummulativeB']\n",
    "\n",
    "# считаем кол-во и сумму заказов по группе А за каждый день\n",
    "ordersADaily = (\n",
    "    orders[orders['group'] == 'A'][['date', 'transactionid', 'visitorid', 'revenue']]\n",
    "    .groupby('date', as_index=False)\n",
    "    .agg({'transactionid': pd.Series.nunique, 'revenue': 'sum'})\n",
    ")\n",
    "\n",
    "ordersADaily.columns = ['date', 'ordersPerDateA', 'revenuePerDateA']\n",
    "# считаем накопительные кол-во и сумму заказов по группе А за каждый день\n",
    "ordersACummulative = ordersADaily.apply(\n",
    "    lambda x: ordersADaily[ordersADaily['date'] <= x['date']].agg(\n",
    "        {'date': 'max', 'ordersPerDateA': 'sum', 'revenuePerDateA': 'sum'}\n",
    "    ),\n",
    "    axis=1,\n",
    ").sort_values(by=['date'])\n",
    "\n",
    "ordersACummulative.columns = [\n",
    "    'date',\n",
    "    'ordersCummulativeA',\n",
    "    'revenueCummulativeA',\n",
    "]\n",
    "\n",
    "# аналогичные расчёты проводим по группе В\n",
    "ordersBDaily = (\n",
    "    orders[orders['group'] == 'B'][['date', 'transactionid', 'visitorid', 'revenue']]\n",
    "    .groupby('date', as_index=False)\n",
    "    .agg({'transactionid': pd.Series.nunique, 'revenue': 'sum'})\n",
    ")\n",
    "\n",
    "ordersBDaily.columns = ['date', 'ordersPerDateB', 'revenuePerDateB']\n",
    "ordersBCummulative = ordersBDaily.apply(\n",
    "    lambda x: ordersBDaily[ordersBDaily['date'] <= x['date']].agg(\n",
    "        {'date': 'max', 'ordersPerDateB': 'sum', 'revenuePerDateB': 'sum'}\n",
    "    ),\n",
    "    axis=1,\n",
    ").sort_values(by=['date'])\n",
    "\n",
    "ordersBCummulative.columns = [\n",
    "    'date',\n",
    "    'ordersCummulativeB',\n",
    "    'revenueCummulativeB',\n",
    "]\n",
    "\n",
    "\n",
    "# объединыем полученные ранее таблицы\n",
    "data = (\n",
    "    ordersADaily.merge(\n",
    "        ordersBDaily, left_on='date', right_on='date', how='left'\n",
    "    )\n",
    "    .merge(ordersACummulative, left_on='date', right_on='date', how='left')\n",
    "    .merge(ordersBCummulative, left_on='date', right_on='date', how='left')\n",
    "    .merge(visitorsADaily, left_on='date', right_on='date', how='left')\n",
    "    .merge(visitorsBDaily, left_on='date', right_on='date', how='left')\n",
    "    .merge(visitorsACummulative, left_on='date', right_on='date', how='left')\n",
    "    .merge(visitorsBCummulative, left_on='date', right_on='date', how='left')\n",
    ")\n",
    "\n",
    "print(data.head(5))"
   ]
  },
  {
   "cell_type": "markdown",
   "id": "fb978b57",
   "metadata": {},
   "source": [
    "Расшифровка названий столбцов данных:\n",
    "- date — дата;\n",
    "- ordersPerDateA — количество заказов в выбранную дату в группе A;\n",
    "- revenuePerDateA — суммарная выручка в выбранную дату в группе A;\n",
    "- ordersPerDateB — количество заказов в выбранную дату в группе B;\n",
    "- revenuePerDateB — суммарная выручка в выбранную дату в группе B;\n",
    "- ordersCummulativeA — суммарное число заказов до выбранной даты включительно в группе A;\n",
    "- revenueCummulativeA — суммарная выручка до выбранной даты включительно в группе A;\n",
    "- ordersCummulativeB — суммарное количество заказов до выбранной даты включительно в группе B;\n",
    "- revenueCummulativeB — суммарная выручка до выбранной даты включительно в группе B;\n",
    "- visitorsPerDateA — количество пользователей в выбранную дату в группе A;\n",
    "- visitorsPerDateВ — количество пользователей в выбранную дату в группе B;\n",
    "- visitorsCummulativeA — количество пользователей до выбранной даты включительно в группе A;\n",
    "- visitorsCummulativeB — количество пользователей до выбранной даты включительно в группе B."
   ]
  },
  {
   "cell_type": "code",
   "execution_count": 46,
   "id": "6c7ff0ae",
   "metadata": {
    "scrolled": true
   },
   "outputs": [
    {
     "name": "stdout",
     "output_type": "stream",
     "text": [
      "p-value 0.017\n",
      "разница в комверсии между группами B и А  13.81%\n"
     ]
    }
   ],
   "source": [
    "# формируем таблицу с заказами по группе А\n",
    "ordersByUsersA = (\n",
    "    orders[orders['group'] == 'A']\n",
    "    .groupby('visitorid', as_index=False)\n",
    "    .agg({'transactionid': pd.Series.nunique})\n",
    ")\n",
    "\n",
    "ordersByUsersA.columns = ['userId', 'orders']\n",
    "\n",
    "# формируем таблицу с заказами по группе В\n",
    "ordersByUsersB = (\n",
    "    orders[orders['group'] == 'B']\n",
    "    .groupby('visitorid', as_index=False)\n",
    "    .agg({'transactionid': pd.Series.nunique})\n",
    ")\n",
    "\n",
    "ordersByUsersB.columns = ['userId', 'orders']\n",
    "\n",
    "# подготовим выборки к проверке критерием Манна-Уитни\n",
    "# объявим переменные sampleA и sampleB, в которых пользователям из разных групп будет соответствовать количество заказов\n",
    "# Тем, кто ничего не заказал, будут соответствовать нули\n",
    "sampleA = pd.concat(\n",
    "    [\n",
    "        ordersByUsersA['orders'],\n",
    "        pd.Series(\n",
    "            0,\n",
    "            index=np.arange(\n",
    "                data['visitorsPerDateA'].sum() - len(ordersByUsersA['orders'])\n",
    "            ),\n",
    "            name='orders',\n",
    "        ),\n",
    "    ],\n",
    "    axis=0,\n",
    ")\n",
    "\n",
    "sampleB = pd.concat(\n",
    "    [\n",
    "        ordersByUsersB['orders'],\n",
    "        pd.Series(\n",
    "            0,\n",
    "            index=np.arange(\n",
    "                data['visitorsPerDateB'].sum() - len(ordersByUsersB['orders'])\n",
    "            ),\n",
    "            name='orders',\n",
    "        ),\n",
    "    ],\n",
    "    axis=0,\n",
    ")\n",
    "\n",
    "print(\"p-value {0:.3f}\".format(stats.mannwhitneyu(sampleA, sampleB)[1]))\n",
    "print(\"разница в комверсии между группами B и А  {0:.2%}\".format(sampleB.mean() / sampleA.mean() - 1))"
   ]
  },
  {
   "cell_type": "markdown",
   "id": "2dbd8bd0",
   "metadata": {},
   "source": [
    "**Вывод:**\n",
    "\n",
    "oтвергаем нулевую гипотезу: по «сырым» данным есть основания утверждать, что между долями есть значимая разница \n",
    "\n",
    "Первое число — p-value = 0.017 меньше 0.05. Значит, нулевую гипотезу о том, что статистически значимых различий в конверсии между группами нет - отвергаем, относительный выигрыш группы B равен 13.8% — второе число в выводе."
   ]
  },
  {
   "cell_type": "markdown",
   "id": "02cef857",
   "metadata": {},
   "source": [
    "### Посчитаем статистическую значимость различий в среднем чеке заказа между группами по «сырым» данным"
   ]
  },
  {
   "cell_type": "markdown",
   "id": "fe6706fa",
   "metadata": {},
   "source": [
    "**Нулевая гипотеза**: различий в среднем чеке между группами нет. **Альтернативная гипотеза**: различия в среднем чеке между группами есть."
   ]
  },
  {
   "cell_type": "code",
   "execution_count": 47,
   "id": "90259962",
   "metadata": {
    "scrolled": true
   },
   "outputs": [
    {
     "name": "stdout",
     "output_type": "stream",
     "text": [
      "Значение p-value 0.729\n",
      "Средний чек в группах B и А различается на 25.87%\n"
     ]
    }
   ],
   "source": [
    "print('Значение p-value {0:.3f}'\n",
    "      .format(stats.mannwhitneyu(orders[orders['group']=='A']['revenue'], orders[orders['group']=='B']['revenue'])[1]))\n",
    "print('Средний чек в группах B и А различается на {0:.2%}'\n",
    "      .format(orders[orders['group']=='B']['revenue'].mean()/orders[orders['group']=='A']['revenue'].mean()-1))"
   ]
  },
  {
   "cell_type": "markdown",
   "id": "14390801",
   "metadata": {},
   "source": [
    "P-value значительно больше 0.05. \n",
    "\n",
    "Значит, причин отвергать нулевую гипотезу и считать, что в среднем чеке есть различия, нет. Впрочем, средний чек группы B значительно выше среднего чека группы A. \n",
    "\n",
    "Необходимо так же посмотреть как будут себя вести очищенные данные"
   ]
  },
  {
   "cell_type": "markdown",
   "id": "73352443",
   "metadata": {},
   "source": [
    "### Посчитаем статистическую значимость различий в конверсии между группами по «очищенным» данным"
   ]
  },
  {
   "cell_type": "markdown",
   "id": "69107629",
   "metadata": {},
   "source": [
    "Примем за аномальных пользователей тех, кто совершил от 4 заказов или совершил заказ дороже 35 000 рублей. Так мы уберём 2% пользователей с наибольшим числом заказов и от 1% до 5% пользователей с дорогими заказами. Сделаем срезы пользователей с числом заказов больше 4 — usersWithManyOrders и пользователей, совершивших заказы дороже 35 000 — usersWithExpensiveOrders. Объединим их в таблице abnormalUsers.\n",
    "\n"
   ]
  },
  {
   "cell_type": "code",
   "execution_count": 48,
   "id": "4c01693a",
   "metadata": {},
   "outputs": [
    {
     "data": {
      "text/html": [
       "<div>\n",
       "<style scoped>\n",
       "    .dataframe tbody tr th:only-of-type {\n",
       "        vertical-align: middle;\n",
       "    }\n",
       "\n",
       "    .dataframe tbody tr th {\n",
       "        vertical-align: top;\n",
       "    }\n",
       "\n",
       "    .dataframe thead th {\n",
       "        text-align: right;\n",
       "    }\n",
       "</style>\n",
       "<table border=\"1\" class=\"dataframe\">\n",
       "  <thead>\n",
       "    <tr style=\"text-align: right;\">\n",
       "      <th></th>\n",
       "      <th>transactionid</th>\n",
       "      <th>visitorid</th>\n",
       "      <th>date</th>\n",
       "      <th>revenue</th>\n",
       "      <th>group</th>\n",
       "    </tr>\n",
       "  </thead>\n",
       "  <tbody>\n",
       "    <tr>\n",
       "      <th>0</th>\n",
       "      <td>3667963787</td>\n",
       "      <td>3312258926</td>\n",
       "      <td>2019-08-15</td>\n",
       "      <td>1650</td>\n",
       "      <td>B</td>\n",
       "    </tr>\n",
       "    <tr>\n",
       "      <th>1</th>\n",
       "      <td>2804400009</td>\n",
       "      <td>3642806036</td>\n",
       "      <td>2019-08-15</td>\n",
       "      <td>730</td>\n",
       "      <td>B</td>\n",
       "    </tr>\n",
       "    <tr>\n",
       "      <th>2</th>\n",
       "      <td>2961555356</td>\n",
       "      <td>4069496402</td>\n",
       "      <td>2019-08-15</td>\n",
       "      <td>400</td>\n",
       "      <td>A</td>\n",
       "    </tr>\n",
       "    <tr>\n",
       "      <th>3</th>\n",
       "      <td>3797467345</td>\n",
       "      <td>1196621759</td>\n",
       "      <td>2019-08-15</td>\n",
       "      <td>9759</td>\n",
       "      <td>B</td>\n",
       "    </tr>\n",
       "    <tr>\n",
       "      <th>4</th>\n",
       "      <td>2282983706</td>\n",
       "      <td>2322279887</td>\n",
       "      <td>2019-08-15</td>\n",
       "      <td>2308</td>\n",
       "      <td>B</td>\n",
       "    </tr>\n",
       "  </tbody>\n",
       "</table>\n",
       "</div>"
      ],
      "text/plain": [
       "   transactionid   visitorid       date  revenue group\n",
       "0     3667963787  3312258926 2019-08-15     1650     B\n",
       "1     2804400009  3642806036 2019-08-15      730     B\n",
       "2     2961555356  4069496402 2019-08-15      400     A\n",
       "3     3797467345  1196621759 2019-08-15     9759     B\n",
       "4     2282983706  2322279887 2019-08-15     2308     B"
      ]
     },
     "execution_count": 48,
     "metadata": {},
     "output_type": "execute_result"
    }
   ],
   "source": [
    "orders.head()"
   ]
  },
  {
   "cell_type": "code",
   "execution_count": 49,
   "id": "003440ff",
   "metadata": {},
   "outputs": [
    {
     "data": {
      "text/html": [
       "<div>\n",
       "<style scoped>\n",
       "    .dataframe tbody tr th:only-of-type {\n",
       "        vertical-align: middle;\n",
       "    }\n",
       "\n",
       "    .dataframe tbody tr th {\n",
       "        vertical-align: top;\n",
       "    }\n",
       "\n",
       "    .dataframe thead th {\n",
       "        text-align: right;\n",
       "    }\n",
       "</style>\n",
       "<table border=\"1\" class=\"dataframe\">\n",
       "  <thead>\n",
       "    <tr style=\"text-align: right;\">\n",
       "      <th></th>\n",
       "      <th>userId</th>\n",
       "      <th>orders</th>\n",
       "    </tr>\n",
       "  </thead>\n",
       "  <tbody>\n",
       "    <tr>\n",
       "      <th>0</th>\n",
       "      <td>8300375</td>\n",
       "      <td>1</td>\n",
       "    </tr>\n",
       "    <tr>\n",
       "      <th>1</th>\n",
       "      <td>11685486</td>\n",
       "      <td>1</td>\n",
       "    </tr>\n",
       "    <tr>\n",
       "      <th>2</th>\n",
       "      <td>54447517</td>\n",
       "      <td>1</td>\n",
       "    </tr>\n",
       "    <tr>\n",
       "      <th>3</th>\n",
       "      <td>66685450</td>\n",
       "      <td>1</td>\n",
       "    </tr>\n",
       "    <tr>\n",
       "      <th>4</th>\n",
       "      <td>78758296</td>\n",
       "      <td>1</td>\n",
       "    </tr>\n",
       "  </tbody>\n",
       "</table>\n",
       "</div>"
      ],
      "text/plain": [
       "     userId  orders\n",
       "0   8300375       1\n",
       "1  11685486       1\n",
       "2  54447517       1\n",
       "3  66685450       1\n",
       "4  78758296       1"
      ]
     },
     "execution_count": 49,
     "metadata": {},
     "output_type": "execute_result"
    }
   ],
   "source": [
    "ordersByUsersA.head()"
   ]
  },
  {
   "cell_type": "code",
   "execution_count": 50,
   "id": "11304fe5",
   "metadata": {
    "scrolled": true
   },
   "outputs": [
    {
     "data": {
      "text/plain": [
       "1099    148427295\n",
       "18      199603092\n",
       "23      237748145\n",
       "1137    759473111\n",
       "949     887908475\n",
       "dtype: int64"
      ]
     },
     "metadata": {},
     "output_type": "display_data"
    },
    {
     "name": "stdout",
     "output_type": "stream",
     "text": [
      "аномальных пользователей 29\n"
     ]
    }
   ],
   "source": [
    "# подготавливаем таблицы, c пользователями,сделавшими более 98 перцентиля заказов и заказы с суммой более 98 перцентиля\n",
    "usersWithManyOrders = pd.concat(\n",
    "    [\n",
    "        ordersByUsersA[ordersByUsersA['orders'] > orders_98perc]['userId'],\n",
    "        ordersByUsersB[ordersByUsersB['orders'] > orders_98perc]['userId'],\n",
    "    ],\n",
    "    axis=0,\n",
    ")\n",
    "\n",
    "usersWithExpensiveOrders = orders[orders['revenue'] > revenue_98perc]['visitorid']\n",
    "\n",
    "# конкатенируем таблицы в единый фрейм с аномальными пользователями\n",
    "abnormalUsers = (\n",
    "    pd.concat([usersWithManyOrders, usersWithExpensiveOrders], axis=0)\n",
    "    .drop_duplicates()\n",
    "    .sort_values()\n",
    ")\n",
    "\n",
    "display(abnormalUsers.head(5))\n",
    "print('аномальных пользователей', abnormalUsers.shape[0])"
   ]
  },
  {
   "cell_type": "code",
   "execution_count": 51,
   "id": "332c352b",
   "metadata": {
    "scrolled": false
   },
   "outputs": [
    {
     "data": {
      "text/plain": [
       "0.028128031037827354"
      ]
     },
     "execution_count": 51,
     "metadata": {},
     "output_type": "execute_result"
    }
   ],
   "source": [
    "# посчитаем долю аномальных пользователей\n",
    "unique_castomers = len(orders.groupby('visitorid').agg({'transactionid':'count'}))\n",
    "abnormalUsers.shape[0]/unique_castomers"
   ]
  },
  {
   "cell_type": "markdown",
   "id": "c07a5d15",
   "metadata": {},
   "source": [
    "Всего 29 аномальных пользователя, они оставляют 3% от первоначального кол-ва. Узнаем, как их действия повлияли на результаты теста. Посчитаем статистическую значимость различий в конверсии между группами теста по очищенным данным. \n",
    "\n"
   ]
  },
  {
   "cell_type": "code",
   "execution_count": 52,
   "id": "7b7f237a",
   "metadata": {},
   "outputs": [],
   "source": [
    "# подготовим выборки количества заказов по пользователям по группам теста\n",
    "\n",
    "sampleAFiltered = pd.concat(\n",
    "    [\n",
    "        ordersByUsersA[\n",
    "            np.logical_not(ordersByUsersA['userId'].isin(abnormalUsers))\n",
    "        ]['orders'],\n",
    "        pd.Series(\n",
    "            0,\n",
    "            index=np.arange(\n",
    "                data['visitorsPerDateA'].sum() - len(ordersByUsersA['orders'])\n",
    "            ),\n",
    "            name='orders',\n",
    "        ),\n",
    "    ],\n",
    "    axis=0,\n",
    ")\n",
    "\n",
    "\n",
    "sampleBFiltered = pd.concat(\n",
    "    [\n",
    "        ordersByUsersB[\n",
    "            np.logical_not(ordersByUsersB['userId'].isin(abnormalUsers))\n",
    "        ]['orders'],\n",
    "        pd.Series(\n",
    "            0,\n",
    "            index=np.arange(\n",
    "                data['visitorsPerDateB'].sum() - len(ordersByUsersB['orders'])\n",
    "            ),\n",
    "            name='orders',\n",
    "        ),\n",
    "    ],\n",
    "    axis=0,\n",
    ")"
   ]
  },
  {
   "cell_type": "markdown",
   "id": "f07eb40e",
   "metadata": {},
   "source": [
    "Применим статистический критерий Манна-Уитни к полученным выборкам:"
   ]
  },
  {
   "cell_type": "code",
   "execution_count": 53,
   "id": "7b443668",
   "metadata": {},
   "outputs": [
    {
     "name": "stdout",
     "output_type": "stream",
     "text": [
      "Значение p-value на очищенных данных 0.010\n",
      "Разница в комверсии между группами B и А 16.08%\n",
      "Отвергаем нулевую гипотезу: между конверсиями есть значимая разница\n"
     ]
    }
   ],
   "source": [
    "print('Значение p-value на очищенных данных {0:.3f}'.format(stats.mannwhitneyu(sampleAFiltered, sampleBFiltered)[1]))\n",
    "print('Разница в комверсии между группами B и А {0:.2%}'.format(sampleBFiltered.mean()/sampleAFiltered.mean()-1))\n",
    "\n",
    "p_value = stats.mannwhitneyu(sampleAFiltered, sampleBFiltered)[1]\n",
    "if p_value < alpha:# ваш код\n",
    "    print('Отвергаем нулевую гипотезу: между конверсиями есть значимая разница')\n",
    "else:\n",
    "    print(\n",
    "        'Не получилось отвергнуть нулевую гипотезу, нет оснований считать конверсии по группам А и В разными'\n",
    "    )"
   ]
  },
  {
   "cell_type": "markdown",
   "id": "217c91f1",
   "metadata": {},
   "source": [
    "Результаты по конверсии не сильно изменились.\n",
    "\n",
    "По-прежнему p-value меньше 0.05 и оно снизилось по сравнению с сырыми данными, нулевую гипотезу о том, что статистически значимых различий в конверсии между группами нет, отвергаем, относительный выигрыш группы B повысился на очищенных данных и равен 16.1% "
   ]
  },
  {
   "cell_type": "markdown",
   "id": "98aa3980",
   "metadata": {},
   "source": [
    "# проведём аналогичные расчёты, с данными, очищенными от  пользователей, попавших в обе группы"
   ]
  },
  {
   "cell_type": "code",
   "execution_count": 54,
   "id": "657b5438",
   "metadata": {},
   "outputs": [
    {
     "data": {
      "text/html": [
       "<div>\n",
       "<style scoped>\n",
       "    .dataframe tbody tr th:only-of-type {\n",
       "        vertical-align: middle;\n",
       "    }\n",
       "\n",
       "    .dataframe tbody tr th {\n",
       "        vertical-align: top;\n",
       "    }\n",
       "\n",
       "    .dataframe thead th {\n",
       "        text-align: right;\n",
       "    }\n",
       "</style>\n",
       "<table border=\"1\" class=\"dataframe\">\n",
       "  <thead>\n",
       "    <tr style=\"text-align: right;\">\n",
       "      <th></th>\n",
       "      <th>visitorid</th>\n",
       "      <th>groups</th>\n",
       "      <th>group_names</th>\n",
       "    </tr>\n",
       "  </thead>\n",
       "  <tbody>\n",
       "    <tr>\n",
       "      <th>0</th>\n",
       "      <td>8300375</td>\n",
       "      <td>2</td>\n",
       "      <td>[B, A]</td>\n",
       "    </tr>\n",
       "    <tr>\n",
       "      <th>1</th>\n",
       "      <td>199603092</td>\n",
       "      <td>2</td>\n",
       "      <td>[A, B]</td>\n",
       "    </tr>\n",
       "  </tbody>\n",
       "</table>\n",
       "</div>"
      ],
      "text/plain": [
       "   visitorid  groups group_names\n",
       "0    8300375       2      [B, A]\n",
       "1  199603092       2      [A, B]"
      ]
     },
     "execution_count": 54,
     "metadata": {},
     "output_type": "execute_result"
    }
   ],
   "source": [
    "duplicated_users = duplicated_users.reset_index()\n",
    "duplicated_users.head(2)"
   ]
  },
  {
   "cell_type": "code",
   "execution_count": 55,
   "id": "d837a949",
   "metadata": {},
   "outputs": [
    {
     "data": {
      "text/plain": [
       "0         8300375\n",
       "1099    148427295\n",
       "18      199603092\n",
       "2       232979603\n",
       "23      237748145\n",
       "dtype: int64"
      ]
     },
     "metadata": {},
     "output_type": "display_data"
    },
    {
     "name": "stdout",
     "output_type": "stream",
     "text": [
      "аномальных пользователей 76\n"
     ]
    }
   ],
   "source": [
    "# подготавливаем таблицы, c пользователями,сделавшими более 3 заказов и заказы с суммой более 35 тыс и пользователями,\n",
    "# попавшими в 2 группы \n",
    "usersWithManyOrders_clear = pd.concat(\n",
    "    [\n",
    "        ordersByUsersA[ordersByUsersA['orders'] > orders_98perc]['userId'],\n",
    "        ordersByUsersB[ordersByUsersB['orders'] > orders_98perc]['userId'],\n",
    "        duplicated_users['visitorid']\n",
    "    ],\n",
    "    axis=0,\n",
    ")\n",
    "\n",
    "usersWithExpensiveOrders = orders[orders['revenue'] > revenue_98perc]['visitorid']\n",
    "\n",
    "# конкатенируем таблицы в единый фрейм\n",
    "abnormalUsers_clear = (\n",
    "    pd.concat([usersWithManyOrders_clear, usersWithExpensiveOrders], axis=0)\n",
    "    .drop_duplicates()\n",
    "    .sort_values()\n",
    ")\n",
    "\n",
    "display(abnormalUsers_clear.head(5))\n",
    "print('аномальных пользователей', abnormalUsers_clear.shape[0])"
   ]
  },
  {
   "cell_type": "code",
   "execution_count": 56,
   "id": "6dd3297b",
   "metadata": {},
   "outputs": [
    {
     "data": {
      "text/plain": [
       "18      199603092\n",
       "23      237748145\n",
       "227    2038680547\n",
       "269    2378935119\n",
       "278    2458001652\n",
       "Name: userId, dtype: int64"
      ]
     },
     "execution_count": 56,
     "metadata": {},
     "output_type": "execute_result"
    }
   ],
   "source": [
    "usersWithManyOrders.head()"
   ]
  },
  {
   "cell_type": "code",
   "execution_count": 57,
   "id": "1e8571ff",
   "metadata": {},
   "outputs": [],
   "source": [
    "# подготовим выборки количества заказов по пользователям по группам теста\n",
    "sampleAFiltered_clear = pd.concat(\n",
    "    [\n",
    "        ordersByUsersA[\n",
    "            np.logical_not(ordersByUsersA['userId'].isin(abnormalUsers_clear))\n",
    "        ]['orders'],\n",
    "        pd.Series(\n",
    "            0,\n",
    "            index=np.arange(\n",
    "                data['visitorsPerDateA'].sum() - len(ordersByUsersA['orders'])\n",
    "            ),\n",
    "            name='orders',\n",
    "        ),\n",
    "    ],\n",
    "    axis=0,\n",
    ")\n",
    "\n",
    "\n",
    "sampleBFiltered_clear = pd.concat(\n",
    "    [\n",
    "        ordersByUsersB[\n",
    "            np.logical_not(ordersByUsersB['userId'].isin(abnormalUsers_clear))\n",
    "        ]['orders'],\n",
    "        pd.Series(\n",
    "            0,\n",
    "            index=np.arange(\n",
    "                data['visitorsPerDateB'].sum() - len(ordersByUsersB['orders'])\n",
    "            ),\n",
    "            name='orders',\n",
    "        ),\n",
    "    ],\n",
    "    axis=0,\n",
    ")"
   ]
  },
  {
   "cell_type": "code",
   "execution_count": 58,
   "id": "eda3b7fe",
   "metadata": {
    "scrolled": true
   },
   "outputs": [
    {
     "name": "stdout",
     "output_type": "stream",
     "text": [
      "Значение p-value на данных очищенных в т.ч. от пользователей, попавших в обе группы 0.007\n",
      "Разница в комверсии между группами B и А 17.48%\n"
     ]
    }
   ],
   "source": [
    "print('Значение p-value на данных очищенных в т.ч. от пользователей, попавших в обе группы {0:.3f}'\n",
    "      .format(stats.mannwhitneyu(sampleAFiltered_clear, sampleBFiltered_clear)[1]))\n",
    "print('Разница в комверсии между группами B и А {0:.2%}'.format(sampleBFiltered_clear.mean()/sampleAFiltered_clear.mean()-1))"
   ]
  },
  {
   "cell_type": "markdown",
   "id": "cce549c7",
   "metadata": {},
   "source": [
    "<a id=\"конверсия_проверка_гипотезы\"></a>\n",
    "\n",
    "# Вывод\n",
    "\n",
    "Результаты по конверсии не сильно изменились.\n",
    "\n",
    "По-прежнему p-value меньше 0.05 и оно снизилось по сравнению с сырыми данными, нулевую гипотезу о том, что статистически значимых различий в конверсии между группами нет, отвергаем, относительный выигрыш группы B повысился на данных очищенных от аномалий и повторных пользователей и равен 17.5%"
   ]
  },
  {
   "cell_type": "markdown",
   "id": "da18d89b",
   "metadata": {},
   "source": [
    "### Посчитаем статистическую значимость различий в среднем чеке заказа между группами по «очищенным» данным"
   ]
  },
  {
   "cell_type": "code",
   "execution_count": 59,
   "id": "218e1a87",
   "metadata": {
    "scrolled": true
   },
   "outputs": [
    {
     "data": {
      "text/html": [
       "<div>\n",
       "<style scoped>\n",
       "    .dataframe tbody tr th:only-of-type {\n",
       "        vertical-align: middle;\n",
       "    }\n",
       "\n",
       "    .dataframe tbody tr th {\n",
       "        vertical-align: top;\n",
       "    }\n",
       "\n",
       "    .dataframe thead th {\n",
       "        text-align: right;\n",
       "    }\n",
       "</style>\n",
       "<table border=\"1\" class=\"dataframe\">\n",
       "  <thead>\n",
       "    <tr style=\"text-align: right;\">\n",
       "      <th></th>\n",
       "      <th>transactionid</th>\n",
       "      <th>visitorid</th>\n",
       "      <th>date</th>\n",
       "      <th>revenue</th>\n",
       "      <th>group</th>\n",
       "    </tr>\n",
       "  </thead>\n",
       "  <tbody>\n",
       "    <tr>\n",
       "      <th>0</th>\n",
       "      <td>3667963787</td>\n",
       "      <td>3312258926</td>\n",
       "      <td>2019-08-15</td>\n",
       "      <td>1650</td>\n",
       "      <td>B</td>\n",
       "    </tr>\n",
       "    <tr>\n",
       "      <th>1</th>\n",
       "      <td>2804400009</td>\n",
       "      <td>3642806036</td>\n",
       "      <td>2019-08-15</td>\n",
       "      <td>730</td>\n",
       "      <td>B</td>\n",
       "    </tr>\n",
       "  </tbody>\n",
       "</table>\n",
       "</div>"
      ],
      "text/plain": [
       "   transactionid   visitorid       date  revenue group\n",
       "0     3667963787  3312258926 2019-08-15     1650     B\n",
       "1     2804400009  3642806036 2019-08-15      730     B"
      ]
     },
     "execution_count": 59,
     "metadata": {},
     "output_type": "execute_result"
    }
   ],
   "source": [
    "orders.head(2)"
   ]
  },
  {
   "cell_type": "code",
   "execution_count": 60,
   "id": "cde53a3b",
   "metadata": {
    "scrolled": true
   },
   "outputs": [
    {
     "name": "stdout",
     "output_type": "stream",
     "text": [
      "Значение p-value на очищенных данных 0.768\n",
      "Средний чек в группах B и А различается на 4.05%\n"
     ]
    }
   ],
   "source": [
    "print(\n",
    "    'Значение p-value на очищенных данных {0:.3f}'.format(\n",
    "        stats.mannwhitneyu(\n",
    "            orders[\n",
    "                np.logical_and(\n",
    "                    orders['group'] == 'A',\n",
    "                    np.logical_not(orders['visitorid'].isin(abnormalUsers)),\n",
    "                )\n",
    "            ]['revenue'],\n",
    "            orders[\n",
    "                np.logical_and(\n",
    "                    orders['group'] == 'B',\n",
    "                    np.logical_not(orders['visitorid'].isin(abnormalUsers)),\n",
    "                )\n",
    "            ]['revenue'],\n",
    "        )[1]\n",
    "    )\n",
    ")\n",
    "\n",
    "print(\n",
    "    \"Средний чек в группах B и А различается на {0:.2%}\".format(\n",
    "        orders[\n",
    "            np.logical_and(\n",
    "                orders['group'] == 'B',\n",
    "                np.logical_not(orders['visitorid'].isin(abnormalUsers)),\n",
    "            )\n",
    "        ]['revenue'].mean()\n",
    "        / orders[\n",
    "            np.logical_and(\n",
    "                orders['group'] == 'A',\n",
    "                np.logical_not(orders['visitorid'].isin(abnormalUsers)),\n",
    "            )\n",
    "        ]['revenue'].mean()\n",
    "        - 1\n",
    "    )\n",
    ")"
   ]
  },
  {
   "cell_type": "markdown",
   "id": "5014004f",
   "metadata": {},
   "source": [
    "P-value увеличился, но и разница между сегментами очень сильно сократилась с 26% до 4.1%, по-прежнему нет причин отвергать нулевую гипотезу и считать, что в среднем чеке есть различия\n",
    "\n"
   ]
  },
  {
   "cell_type": "markdown",
   "id": "b6cd0545",
   "metadata": {},
   "source": [
    "# проведём аналогичные расчёты, с данными, очищенными от  пользователей, попавших в обе группы"
   ]
  },
  {
   "cell_type": "code",
   "execution_count": 61,
   "id": "7246713b",
   "metadata": {},
   "outputs": [
    {
     "name": "stdout",
     "output_type": "stream",
     "text": [
      "Значение p-value на данных очищенных, в т.ч. от пользователей, попавших в обе группы 0.895\n",
      "Средний чек в группах B и А различается на 2.83%\n"
     ]
    }
   ],
   "source": [
    "print(\n",
    "    'Значение p-value на данных очищенных, в т.ч. от пользователей, попавших в обе группы {0:.3f}'.format(\n",
    "        stats.mannwhitneyu(\n",
    "            orders[\n",
    "                np.logical_and(\n",
    "                    orders['group'] == 'A',\n",
    "                    np.logical_not(orders['visitorid'].isin(abnormalUsers_clear)),\n",
    "                )\n",
    "            ]['revenue'],\n",
    "            orders[\n",
    "                np.logical_and(\n",
    "                    orders['group'] == 'B',\n",
    "                    np.logical_not(orders['visitorid'].isin(abnormalUsers_clear)),\n",
    "                )\n",
    "            ]['revenue'],\n",
    "        )[1]\n",
    "    )\n",
    ")\n",
    "\n",
    "print(\n",
    "    \"Средний чек в группах B и А различается на {0:.2%}\".format(\n",
    "        orders[\n",
    "            np.logical_and(\n",
    "                orders['group'] == 'B',\n",
    "                np.logical_not(orders['visitorid'].isin(abnormalUsers_clear)),\n",
    "            )\n",
    "        ]['revenue'].mean()\n",
    "        / orders[\n",
    "            np.logical_and(\n",
    "                orders['group'] == 'A',\n",
    "                np.logical_not(orders['visitorid'].isin(abnormalUsers_clear)),\n",
    "            )\n",
    "        ]['revenue'].mean()\n",
    "        - 1\n",
    "    )\n",
    ")"
   ]
  },
  {
   "cell_type": "markdown",
   "id": "67a4d0e0",
   "metadata": {},
   "source": [
    "\n",
    "<a id=\"срчекпроверкагипотезы\"></a>\n",
    "\n",
    "# Вывод\n",
    "\n",
    "P-value увеличился, но и разница между сегментами очень сильно сократилась до 2.8% на полностью очищенных от аномалий и повторных пользователей данных\n",
    "\n",
    "Значит, по-прежнему нет причин отвергать нулевую гипотезу и считать, что в среднем чеке есть различия\n",
    "\n",
    "Хотя общие выводы по результатам теста не изменились, мы видим, как сильно аномалии повлияли на результаты A/B-теста"
   ]
  },
  {
   "cell_type": "markdown",
   "id": "1d67e04c",
   "metadata": {},
   "source": [
    "## Вывод проекта"
   ]
  },
  {
   "attachments": {
    "image-3.png": {
     "image/png": "[encoded data removed]"
    },
    "image.png": {
     "image/png": "[encoded data removed]"
    }
   },
   "cell_type": "markdown",
   "id": "071fcff2",
   "metadata": {},
   "source": [
    "**Исходя из обнаруженных фактов, тест следует остановить и признать его успешным.** Продолжать смысла нет, потому как вероятность, что при имеющихся данных сегмент B на самом деле лучше сегмента A — очень высока.\n",
    "\n",
    "- Есть основания утверждать, что существует статистически значимое различие по конверсии между группами и по «сырым», и по данным после полной фильтрации аномалий, группа B выигрывает группу А на 16.8% по очищенным данным и на 13% по полным данным [результаты проверки](#конверсия_проверка_гипотезы);\n",
    "- Нет статистически значимого различия по среднему чеку между группами ни по «сырым», ни по данным после фильтрации аномалий [результаты проверки](#срчекпроверкагипотезы);\n",
    "- График различия конверсии между группами сообщает, что результаты группы B лучше группы A и есть тенденция к улучшению:\n",
    "![image.png](attachment:image.png)\n",
    "\n",
    "- График различия среднего чека показывает и сильные колебания и говорит о том, что результаты не установились на каком-то более-менее стабильном уровне, хотя результаты группы B сейчас почти на 26% лучше:\n",
    "![image-3.png](attachment:image-3.png)\n",
    "\n",
    "- Следует обратить внимание на то, что тестируемая гипотеза оказала влияние на конверсию, а следовательно на повышение выручки. При этом несмотря на то, что на последнюю дату тестирования кумулятивный средний чек по группе В на 26% выше, [графики кумулятивного среднего чека имеют тенденцию к сближению](#кумулятивныйсрчек), причина текущего различия - вбросы, об этом нам и говорят результаты проверки гипотезы о равенстве критерием Мана-Уитни, нет оснований утверждать, что в средних чеках по группам есть различия"
   ]
  }
 ],
 "metadata": {
  "kernelspec": {
   "display_name": "Python 3 (ipykernel)",
   "language": "python",
   "name": "python3"
  },
  "language_info": {
   "codemirror_mode": {
    "name": "ipython",
    "version": 3
   },
   "file_extension": ".py",
   "mimetype": "text/x-python",
   "name": "python",
   "nbconvert_exporter": "python",
   "pygments_lexer": "ipython3",
   "version": "3.9.7"
  },
  "toc": {
   "base_numbering": 1,
   "nav_menu": {},
   "number_sections": true,
   "sideBar": true,
   "skip_h1_title": true,
   "title_cell": "Table of Contents",
   "title_sidebar": "Contents",
   "toc_cell": false,
   "toc_position": {
    "height": "calc(100% - 180px)",
    "left": "10px",
    "top": "150px",
    "width": "472.306px"
   },
   "toc_section_display": true,
   "toc_window_display": true
  }
 },
 "nbformat": 4,
 "nbformat_minor": 5
}
